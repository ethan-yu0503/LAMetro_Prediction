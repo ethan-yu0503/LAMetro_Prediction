{
  "nbformat": 4,
  "nbformat_minor": 0,
  "metadata": {
    "colab": {
      "name": "checkpoint2_ridership_prediction.ipynb",
      "version": "0.3.2",
      "provenance": [],
      "collapsed_sections": []
    },
    "kernelspec": {
      "name": "python3",
      "display_name": "Python 3"
    }
  },
  "cells": [
    {
      "metadata": {
        "id": "wNAxPnbBYEcO",
        "colab_type": "text"
      },
      "cell_type": "markdown",
      "source": [
        "## Data Retrieval"
      ]
    },
    {
      "metadata": {
        "id": "FHZkyBM1YLU1",
        "colab_type": "text"
      },
      "cell_type": "markdown",
      "source": [
        "Getting the shape files for census tracts in Los Angeles"
      ]
    },
    {
      "metadata": {
        "id": "3Z-7GH2J77_a",
        "colab_type": "code",
        "outputId": "06c83ebf-7def-4909-9638-a1d0259d7b3a",
        "colab": {
          "base_uri": "https://localhost:8080/",
          "height": 408
        }
      },
      "cell_type": "code",
      "source": [
        "!wget -Nq http://egis3.lacounty.gov/dataportal/wp-content/uploads/ShapefilePackages/CENSUS_TRACTS_2010.zip\n",
        "!unzip -o CENSUS_TRACTS_2010.zip\n",
        "!ls -lah"
      ],
      "execution_count": 1,
      "outputs": [
        {
          "output_type": "stream",
          "text": [
            "Archive:  CENSUS_TRACTS_2010.zip\n",
            "  inflating: CENSUS_TRACTS_2010.cpg  \n",
            "  inflating: CENSUS_TRACTS_2010.dbf  \n",
            "  inflating: CENSUS_TRACTS_2010.prj  \n",
            "  inflating: CENSUS_TRACTS_2010.sbn  \n",
            "  inflating: CENSUS_TRACTS_2010.sbx  \n",
            "  inflating: CENSUS_TRACTS_2010.shp  \n",
            "  inflating: CENSUS_TRACTS_2010.shp.xml  \n",
            "  inflating: CENSUS_TRACTS_2010.shx  \n",
            "total 8.9M\n",
            "drwxr-xr-x 1 root root 4.0K Apr 12 07:03 .\n",
            "drwxr-xr-x 1 root root 4.0K Apr 12 07:02 ..\n",
            "-rw-rw-rw- 1 root root    5 Jan 26  2016 CENSUS_TRACTS_2010.cpg\n",
            "-rw-rw-rw- 1 root root 232K Jan 26  2016 CENSUS_TRACTS_2010.dbf\n",
            "-rw-rw-rw- 1 root root  565 Jan 26  2016 CENSUS_TRACTS_2010.prj\n",
            "-rw-rw-rw- 1 root root  23K Jan 26  2016 CENSUS_TRACTS_2010.sbn\n",
            "-rw-rw-rw- 1 root root 1012 Jan 26  2016 CENSUS_TRACTS_2010.sbx\n",
            "-rw-rw-rw- 1 root root 5.1M Jan 26  2016 CENSUS_TRACTS_2010.shp\n",
            "-rw-rw-rw- 1 root root  48K Jan 26  2016 CENSUS_TRACTS_2010.shp.xml\n",
            "-rw-rw-rw- 1 root root  19K Jan 26  2016 CENSUS_TRACTS_2010.shx\n",
            "-rw-r--r-- 1 root root 3.5M Jan 26  2016 CENSUS_TRACTS_2010.zip\n",
            "drwxr-xr-x 1 root root 4.0K Apr  4 20:19 .config\n",
            "drwxr-xr-x 1 root root 4.0K Apr  4 20:20 sample_data\n"
          ],
          "name": "stdout"
        }
      ]
    },
    {
      "metadata": {
        "id": "kUZUbpCbRy8Y",
        "colab_type": "text"
      },
      "cell_type": "markdown",
      "source": [
        "We are getting the Excel spreadsheets from the LA Metro data archive that has historical ridership data that includes a breakdown of every single LA Metro station."
      ]
    },
    {
      "metadata": {
        "id": "NQVkGXSVSAwl",
        "colab_type": "code",
        "outputId": "c9e3b33a-312d-4dce-fcc7-b3da25ef6744",
        "colab": {
          "base_uri": "https://localhost:8080/",
          "height": 357
        }
      },
      "cell_type": "code",
      "source": [
        "!wget -Nq http://libraryarchives.metro.net/DPGTL/Ridership/RailActivityByStationFY2010.xls\n",
        "!wget -Nq http://libraryarchives.metro.net/DPGTL/Ridership/RailActivityByStationFY2011.xls\n",
        "!wget -Nq http://libraryarchives.metro.net/DPGTL/Ridership/RailActivityByStationFY2012.xls\n",
        "!wget -Nq http://libraryarchives.metro.net/DPGTL/Ridership/RailActivityByStationFY2013.xls\n",
        "!wget -Nq http://libraryarchives.metro.net/DPGTL/Ridership/RailActivityByStationFY2014.xls\n",
        "!wget -Nq http://libraryarchives.metro.net/DPGTL/Ridership/RailActivityByStationFY2017.xlsx\n",
        "\n",
        "!ls -lah"
      ],
      "execution_count": 2,
      "outputs": [
        {
          "output_type": "stream",
          "text": [
            "total 9.7M\n",
            "drwxr-xr-x 1 root root 4.0K Apr 12 07:03 .\n",
            "drwxr-xr-x 1 root root 4.0K Apr 12 07:02 ..\n",
            "-rw-rw-rw- 1 root root    5 Jan 26  2016 CENSUS_TRACTS_2010.cpg\n",
            "-rw-rw-rw- 1 root root 232K Jan 26  2016 CENSUS_TRACTS_2010.dbf\n",
            "-rw-rw-rw- 1 root root  565 Jan 26  2016 CENSUS_TRACTS_2010.prj\n",
            "-rw-rw-rw- 1 root root  23K Jan 26  2016 CENSUS_TRACTS_2010.sbn\n",
            "-rw-rw-rw- 1 root root 1012 Jan 26  2016 CENSUS_TRACTS_2010.sbx\n",
            "-rw-rw-rw- 1 root root 5.1M Jan 26  2016 CENSUS_TRACTS_2010.shp\n",
            "-rw-rw-rw- 1 root root  48K Jan 26  2016 CENSUS_TRACTS_2010.shp.xml\n",
            "-rw-rw-rw- 1 root root  19K Jan 26  2016 CENSUS_TRACTS_2010.shx\n",
            "-rw-r--r-- 1 root root 3.5M Jan 26  2016 CENSUS_TRACTS_2010.zip\n",
            "drwxr-xr-x 1 root root 4.0K Apr  4 20:19 .config\n",
            "-rw-r--r-- 1 root root 104K Aug 11  2010 RailActivityByStationFY2010.xls\n",
            "-rw-r--r-- 1 root root  90K Sep 28  2011 RailActivityByStationFY2011.xls\n",
            "-rw-r--r-- 1 root root  93K Jul 31  2012 RailActivityByStationFY2012.xls\n",
            "-rw-r--r-- 1 root root 200K Feb 27  2014 RailActivityByStationFY2013.xls\n",
            "-rw-r--r-- 1 root root 200K Jul 17  2014 RailActivityByStationFY2014.xls\n",
            "-rw-r--r-- 1 root root  95K Jan 23  2018 RailActivityByStationFY2017.xlsx\n",
            "drwxr-xr-x 1 root root 4.0K Apr  4 20:20 sample_data\n"
          ],
          "name": "stdout"
        }
      ]
    },
    {
      "metadata": {
        "id": "mSLfQcmsYPjr",
        "colab_type": "text"
      },
      "cell_type": "markdown",
      "source": [
        "## Importing Packages in Python"
      ]
    },
    {
      "metadata": {
        "id": "ULQRjoU99Qhi",
        "colab_type": "text"
      },
      "cell_type": "markdown",
      "source": [
        "Importing relevant packages in Python, such as RTree"
      ]
    },
    {
      "metadata": {
        "id": "PlIrVtxa9W04",
        "colab_type": "code",
        "outputId": "c855bf16-459e-4e16-da55-abab5d7de1ec",
        "colab": {
          "base_uri": "https://localhost:8080/",
          "height": 153
        }
      },
      "cell_type": "code",
      "source": [
        "!apt-get install python3-rtree"
      ],
      "execution_count": 0,
      "outputs": [
        {
          "output_type": "stream",
          "text": [
            "Reading package lists... Done\n",
            "Building dependency tree       \n",
            "Reading state information... Done\n",
            "python3-rtree is already the newest version (0.8.3+ds-1).\n",
            "The following package was automatically installed and is no longer required:\n",
            "  libnvidia-common-410\n",
            "Use 'apt autoremove' to remove it.\n",
            "0 upgraded, 0 newly installed, 0 to remove and 6 not upgraded.\n"
          ],
          "name": "stdout"
        }
      ]
    },
    {
      "metadata": {
        "id": "TlIwotZy_GCT",
        "colab_type": "text"
      },
      "cell_type": "markdown",
      "source": [
        "Fiona and Shapely"
      ]
    },
    {
      "metadata": {
        "id": "G6vSDgrx_PXP",
        "colab_type": "code",
        "outputId": "703f2d86-41c6-4004-f7d6-f44beac32dad",
        "colab": {
          "base_uri": "https://localhost:8080/",
          "height": 360
        }
      },
      "cell_type": "code",
      "source": [
        "!pip install fiona shapely"
      ],
      "execution_count": 3,
      "outputs": [
        {
          "output_type": "stream",
          "text": [
            "Collecting fiona\n",
            "\u001b[?25l  Downloading https://files.pythonhosted.org/packages/89/4a/193cd6a75e51062c85f4e1cd6f312b3bbda6e26ba7510f152ef5016f0b16/Fiona-1.8.6-cp36-cp36m-manylinux1_x86_64.whl (17.9MB)\n",
            "\u001b[K    100% |████████████████████████████████| 17.9MB 1.9MB/s \n",
            "\u001b[?25hRequirement already satisfied: shapely in /usr/local/lib/python3.6/dist-packages (1.6.4.post2)\n",
            "Requirement already satisfied: click<8,>=4.0 in /usr/local/lib/python3.6/dist-packages (from fiona) (7.0)\n",
            "Collecting munch (from fiona)\n",
            "  Downloading https://files.pythonhosted.org/packages/68/f4/260ec98ea840757a0da09e0ed8135333d59b8dfebe9752a365b04857660a/munch-2.3.2.tar.gz\n",
            "Requirement already satisfied: six>=1.7 in /usr/local/lib/python3.6/dist-packages (from fiona) (1.11.0)\n",
            "Collecting cligj>=0.5 (from fiona)\n",
            "  Downloading https://files.pythonhosted.org/packages/e4/be/30a58b4b0733850280d01f8bd132591b4668ed5c7046761098d665ac2174/cligj-0.5.0-py3-none-any.whl\n",
            "Collecting click-plugins>=1.0 (from fiona)\n",
            "  Downloading https://files.pythonhosted.org/packages/e9/da/824b92d9942f4e472702488857914bdd50f73021efea15b4cad9aca8ecef/click_plugins-1.1.1-py2.py3-none-any.whl\n",
            "Requirement already satisfied: attrs>=17 in /usr/local/lib/python3.6/dist-packages (from fiona) (19.1.0)\n",
            "Building wheels for collected packages: munch\n",
            "  Building wheel for munch (setup.py) ... \u001b[?25ldone\n",
            "\u001b[?25h  Stored in directory: /root/.cache/pip/wheels/db/bf/bc/06a3e1bfe0ab27d2e720ceb3cff3159398d92644c0cec2c125\n",
            "Successfully built munch\n",
            "Installing collected packages: munch, cligj, click-plugins, fiona\n",
            "Successfully installed click-plugins-1.1.1 cligj-0.5.0 fiona-1.8.6 munch-2.3.2\n"
          ],
          "name": "stdout"
        }
      ]
    },
    {
      "metadata": {
        "id": "wBT6t5Sq_LiM",
        "colab_type": "text"
      },
      "cell_type": "markdown",
      "source": [
        "## Importing within Python"
      ]
    },
    {
      "metadata": {
        "id": "6epw84ul_1Pw",
        "colab_type": "code",
        "colab": {}
      },
      "cell_type": "code",
      "source": [
        "%matplotlib inline\n",
        "import sys, os, time\n",
        "\n",
        "import numpy as np\n",
        "import pandas as pd\n",
        "import math     \n",
        "from math import sqrt, isnan\n",
        "\n",
        "import matplotlib.pyplot as plt\n",
        "\n",
        "import fiona\n",
        "import shapely\n",
        "import shapely.geometry\n",
        "# import rtree\n",
        "                                                                                                                                                                                      \n",
        "from io import StringIO                                                                                                                                                                                     \n",
        "xrange = range                                                                                                                                                                                              \n",
        "from tokenize import generate_tokens \n"
      ],
      "execution_count": 0,
      "outputs": []
    },
    {
      "metadata": {
        "id": "g4EA8YVy__mk",
        "colab_type": "text"
      },
      "cell_type": "markdown",
      "source": [
        "Open LA census tracts using Fiona"
      ]
    },
    {
      "metadata": {
        "id": "a49fdbRaSXuA",
        "colab_type": "text"
      },
      "cell_type": "markdown",
      "source": [
        "## Reading LA metro ridership information from Excel\n",
        "We extract the latitude and longtitude information for each metro station from the data. Right now we're interested in the geocoordinates of the metro station so that we can identify which census tracts are within a certain radius of each metro station."
      ]
    },
    {
      "metadata": {
        "id": "7z53X5wlSbrU",
        "colab_type": "code",
        "colab": {}
      },
      "cell_type": "code",
      "source": [
        "# Creating dataframe from reading and parsing a sheet in excel\n",
        "blue_ridership_df = pd.read_excel(\"RailActivityByStationFY2017.xlsx\", sheet_name=\"Blue Line\")\n",
        "# blue_ridership_df.head(10)\n",
        "# Taking only the columns of interest (latitude and longitude)\n",
        "blue_ridership_df_geocoord = blue_ridership_df[['Latitude', 'Longitude']]\n",
        "# Printing out the first 20 elements\n",
        "blue_ridership_df_geocoord.head(20)\n",
        "\n",
        "red_ridership_df = pd.read_excel(\"RailActivityByStationFY2017.xlsx\", sheet_name=\"Red Line\")\n",
        "# red_ridership_df.head(10)\n",
        "red_ridership_df_geocoord = red_ridership_df[['Latitude', 'Longitude']]\n",
        "red_ridership_df_geocoord.head(20)\n",
        "\n",
        "expo_ridership_df = pd.read_excel(\"RailActivityByStationFY2017.xlsx\", sheet_name=\"Expo Line\")\n",
        "# expo_ridership_df.head(10)\n",
        "expo_ridership_df_geocoord = expo_ridership_df[['Latitude', 'Longitude']]\n",
        "expo_ridership_df_geocoord.head(20)\n",
        "\n",
        "green_ridership_df = pd.read_excel(\"RailActivityByStationFY2017.xlsx\", sheet_name=\"Green Line\")\n",
        "# green_ridership_df.head(10)\n",
        "green_ridership_df_geocoord = green_ridership_df[['Latitude', 'Longitude']]\n",
        "green_ridership_df_geocoord.head(20)\n",
        "green_ridership_df[['Average_Daily_Boardings']].head(20)\n",
        "\n",
        "gold_ridership_df = pd.read_excel(\"RailActivityByStationFY2017.xlsx\", sheet_name=\"Gold Line\")\n"
      ],
      "execution_count": 0,
      "outputs": []
    },
    {
      "metadata": {
        "id": "phnbBeIK6CY6",
        "colab_type": "text"
      },
      "cell_type": "markdown",
      "source": [
        "Visualizing the Metro Data"
      ]
    },
    {
      "metadata": {
        "id": "jQOWn3tE6Evu",
        "colab_type": "code",
        "outputId": "c46938be-d701-4fc6-b896-442af234d938",
        "colab": {
          "base_uri": "https://localhost:8080/",
          "height": 584
        }
      },
      "cell_type": "code",
      "source": [
        "y_pos = np.arange(len(blue_ridership_df[0:20][[\"Station\"]]))\n",
        "stations = np.array(blue_ridership_df[0:20][[\"Station\"]]).flatten()\n",
        "boardings = np.array(blue_ridership_df[0:20][[\"Average_Daily_Boardings\"]].values).flatten()\n",
        "\n",
        "plt.bar(y_pos, boardings, align='center', alpha=0.5)\n",
        "plt.xticks(y_pos, stations)\n",
        "plt.xticks(rotation='vertical')\n",
        "plt.ylabel(\"Average Daily Boardings\")\n",
        "plt.title(\"Blue Line Ridership Breakdown\")\n"
      ],
      "execution_count": 30,
      "outputs": [
        {
          "output_type": "execute_result",
          "data": {
            "text/plain": [
              "Text(0.5, 1.0, 'Blue Line Ridership Breakdown')"
            ]
          },
          "metadata": {
            "tags": []
          },
          "execution_count": 30
        },
        {
          "output_type": "display_data",
          "data": {
            "image/png": "[encoded data removed]",
            "text/plain": [
              "<Figure size 432x288 with 1 Axes>"
            ]
          },
          "metadata": {
            "tags": []
          }
        }
      ]
    },
    {
      "metadata": {
        "id": "nF3N6ej5bO8W",
        "colab_type": "text"
      },
      "cell_type": "markdown",
      "source": [
        "Collecting the dataframes from different lines and storing them into one list"
      ]
    },
    {
      "metadata": {
        "id": "VFbU_AkHbU95",
        "colab_type": "code",
        "colab": {}
      },
      "cell_type": "code",
      "source": [
        "line_ridership_df_list_17 = [blue_ridership_df, red_ridership_df, expo_ridership_df,\n",
        "                      green_ridership_df, gold_ridership_df]\n",
        "\n",
        "line_ridership_list_aggregated = []\n",
        "\n",
        "for line_df in line_ridership_df_list_17:\n",
        "  line_ridership_aggregated = {}\n",
        "  invalid_row_indicies = []\n",
        "  for i in range(len(line_df.index)):\n",
        "    daily_boardings = line_df.loc[i]['Average_Daily_Boardings']\n",
        "    daytype = line_df.loc[i]['Daytype']\n",
        "    \n",
        "    if type(line_df.loc[i]['Station']) is not str:\n",
        "      invalid_row_indicies.append(i)\n",
        "      \n",
        "    elif daily_boardings == 0 or isnan(daily_boardings):\n",
        "      invalid_row_indicies.append(i)\n",
        "      \n",
        "    elif daytype != \"Weekday\":\n",
        "      invalid_row_indicies.append(i)     \n",
        "      \n",
        "  line_df.drop(invalid_row_indicies, inplace=True)\n",
        "  line_ridership_list_aggregated.append(line_ridership_aggregated)\n",
        " \n",
        "  "
      ],
      "execution_count": 0,
      "outputs": []
    },
    {
      "metadata": {
        "id": "N3JMIIDy3Em3",
        "colab_type": "text"
      },
      "cell_type": "markdown",
      "source": [
        "Visualizing ridership breakdown for each row!"
      ]
    },
    {
      "metadata": {
        "id": "EPpps1va3IpK",
        "colab_type": "code",
        "outputId": "443f7cc6-b213-4638-d7ed-b34e035b4e22",
        "colab": {
          "base_uri": "https://localhost:8080/",
          "height": 588
        }
      },
      "cell_type": "code",
      "source": [
        "y_pos = np.arange(len(red_ridership_df[[\"Station\"]]))\n",
        "stations = np.array(red_ridership_df[[\"Station\"]]).flatten()\n",
        "boardings = np.array(red_ridership_df[[\"Average_Daily_Boardings\"]].values).flatten()\n",
        "\n",
        "plt.bar(y_pos, boardings, align='center', alpha=0.5)\n",
        "plt.xticks(y_pos, stations)\n",
        "plt.xticks(rotation='vertical')\n",
        "plt.ylabel(\"Average Daily Boardings\")\n",
        "plt.title(\"Red Line Ridership Breakdown\")"
      ],
      "execution_count": 8,
      "outputs": [
        {
          "output_type": "execute_result",
          "data": {
            "text/plain": [
              "Text(0.5, 1.0, 'Red Line Ridership Breakdown')"
            ]
          },
          "metadata": {
            "tags": []
          },
          "execution_count": 8
        },
        {
          "output_type": "display_data",
          "data": {
            "image/png": "[encoded data removed]",
            "text/plain": [
              "<Figure size 432x288 with 1 Axes>"
            ]
          },
          "metadata": {
            "tags": []
          }
        }
      ]
    },
    {
      "metadata": {
        "id": "AcaxIo435oQd",
        "colab_type": "code",
        "outputId": "c21dd6a2-f628-49bb-8545-4df21b4b15da",
        "colab": {
          "base_uri": "https://localhost:8080/",
          "height": 584
        }
      },
      "cell_type": "code",
      "source": [
        "y_pos = np.arange(len(expo_ridership_df[[\"Station\"]]))\n",
        "stations = np.array(expo_ridership_df[[\"Station\"]]).flatten()\n",
        "boardings = np.array(expo_ridership_df[[\"Average_Daily_Boardings\"]].values).flatten()\n",
        "\n",
        "plt.bar(y_pos, boardings, align='center', alpha=0.5)\n",
        "plt.xticks(y_pos, stations)\n",
        "plt.xticks(rotation='vertical')\n",
        "plt.ylabel(\"Average Daily Boardings\")\n",
        "plt.title(\"Expo Line Ridership Breakdown\")"
      ],
      "execution_count": 9,
      "outputs": [
        {
          "output_type": "execute_result",
          "data": {
            "text/plain": [
              "Text(0.5, 1.0, 'Expo Line Ridership Breakdown')"
            ]
          },
          "metadata": {
            "tags": []
          },
          "execution_count": 9
        },
        {
          "output_type": "display_data",
          "data": {
            "image/png": "[encoded data removed]",
            "text/plain": [
              "<Figure size 432x288 with 1 Axes>"
            ]
          },
          "metadata": {
            "tags": []
          }
        }
      ]
    },
    {
      "metadata": {
        "id": "V9wOuJhKNw6T",
        "colab_type": "text"
      },
      "cell_type": "markdown",
      "source": [
        "By looking at the data, we can observe that some rows have empty values for stations and zero/NaN values for daily boardings. To clean up our data, we want to remove these rows from our dataframes. Here is a function that helps us with the removal."
      ]
    },
    {
      "metadata": {
        "id": "b3_qIqpLOzN1",
        "colab_type": "code",
        "colab": {}
      },
      "cell_type": "code",
      "source": [
        "def invalid_rows_to_remove(df):\n",
        "  invalid_row_indicies = []\n",
        "  for i in range(len(df.index)):\n",
        "    station = df.loc[i]['Station']\n",
        "    daily_boardings = df.loc[i]['Daily Boardings']\n",
        "    if type(station) is not str:\n",
        "      invalid_row_indicies.append(i)\n",
        "  \n",
        "    elif daily_boardings == 0 or isnan(daily_boardings):\n",
        "      invalid_row_indicies.append(i)\n",
        "  \n",
        "  return invalid_row_indicies"
      ],
      "execution_count": 0,
      "outputs": []
    },
    {
      "metadata": {
        "id": "9qsMqGQDesAq",
        "colab_type": "text"
      },
      "cell_type": "markdown",
      "source": [
        "## Extracting information from Older Metro Excel \n",
        "\n",
        "Since the data format for older metro ridership information is different, we need to do more data cleaning in order to read in the data."
      ]
    },
    {
      "metadata": {
        "id": "WGY95PScf9nI",
        "colab_type": "code",
        "outputId": "43cfdf94-b91e-4ea1-f2f3-9e83db588b36",
        "colab": {
          "base_uri": "https://localhost:8080/",
          "height": 2193
        }
      },
      "cell_type": "code",
      "source": [
        "blue_ridership_14_df = pd.read_excel(\"RailActivityByStationFY2014.xls\", sheet_name=\"Blue Line\", skiprows=6, skipcols=3, header=None)\n",
        "#movies_skip_rows.columns = ['Title', 'Year', 'Genres\n",
        "blue_ridership_14_df.columns = [\"Temp1\", \"Temp2\", \"Temp3\", \"Station\", \"Daily Boardings\", \"Daily Alightings\",\n",
        "                                \"Yearly Boardings\", \"Yearly Alightings\", \"Stop\", \n",
        "                                \"Latitude\", \"Longitude\"]\n",
        "blue_ridership_14_df.drop(columns=[\"Temp1\", \"Temp2\", \"Temp3\"], inplace=True)\n",
        "\n",
        "invalid_row_indicies = invalid_rows_to_remove(blue_ridership_14_df)\n",
        "\n",
        "print(invalid_row_indicies)\n",
        "blue_ridership_14_df.drop(invalid_row_indicies, inplace=True)\n",
        "print(blue_ridership_14_df)"
      ],
      "execution_count": 0,
      "outputs": [
        {
          "output_type": "stream",
          "text": [
            "[20, 21, 43, 44, 45, 46, 67, 68, 90, 91, 92, 93, 114, 115]\n",
            "                   Station  Daily Boardings  Daily Alightings  \\\n",
            "0             TRANSIT MALL      3647.283863               NaN   \n",
            "1                  PACIFIC      1402.007093        272.830833   \n",
            "2                  ANAHEIM      2586.072773        484.277785   \n",
            "3    PACIFIC COAST HIGHWAY      2189.167504        762.143968   \n",
            "4                   WILLOW      2751.614156        760.174282   \n",
            "5                  WARDLOW      1192.517607        498.025956   \n",
            "6                  DEL AMO      2386.285066        737.326554   \n",
            "7                  ARTESIA      2878.997917       1201.076433   \n",
            "8                  COMPTON      3116.408947       1609.272542   \n",
            "9      IMPERIAL/WILMINGTON      6588.139024       4425.500295   \n",
            "10            103RD STREET      2099.689913       1549.189499   \n",
            "11               FIRESTONE      1736.899327       1393.357145   \n",
            "12                FLORENCE      2622.312821       2233.471536   \n",
            "13                 SLAUSON      1405.508500       1421.253264   \n",
            "14                  VERNON      1470.912856       1629.305646   \n",
            "15              WASHINGTON       903.407145        973.895511   \n",
            "16               SAN PEDRO      1271.130373       1477.769988   \n",
            "17                   GRAND      1572.306644       2884.211937   \n",
            "18                    PICO       960.951645       2873.540435   \n",
            "19        7TH/METRO CENTER              NaN      15895.480103   \n",
            "22        7TH/METRO CENTER     14397.014165               NaN   \n",
            "23                    PICO      3088.111336        990.637618   \n",
            "24                   GRAND      2850.062247       1331.769676   \n",
            "25               SAN PEDRO      1236.228042       1258.905710   \n",
            "26              WASHINGTON       925.598608        864.190578   \n",
            "27                  VERNON      1468.425004       1397.780922   \n",
            "28                 SLAUSON      1275.502758       1339.034271   \n",
            "29                FLORENCE      2123.077784       2318.305027   \n",
            "30               FIRESTONE      1418.719852       1686.334826   \n",
            "31            103RD STREET      1535.163141       1867.812806   \n",
            "..                     ...              ...               ...   \n",
            "105              FIRESTONE       953.198167        758.257354   \n",
            "106               FLORENCE      1626.734392       1260.523443   \n",
            "107                SLAUSON       666.683794        726.869189   \n",
            "108                 VERNON      1000.736936       1247.783858   \n",
            "109             WASHINGTON       271.514833        360.904059   \n",
            "110              SAN PEDRO       740.834903        645.148705   \n",
            "111                  GRAND       441.260954       1178.205812   \n",
            "112                   PICO       669.987036       2139.077304   \n",
            "113       7TH/METRO CENTER              NaN       8040.881083   \n",
            "116       7TH/METRO CENTER      6959.544778               NaN   \n",
            "117                   PICO      2170.466335        571.964937   \n",
            "118                  GRAND       954.273471        473.740331   \n",
            "119              SAN PEDRO       694.058030        540.815882   \n",
            "120             WASHINGTON       339.888359        221.584760   \n",
            "121                 VERNON      1050.368506        796.592559   \n",
            "122                SLAUSON       622.485401        532.675532   \n",
            "123               FLORENCE      1000.702734       1402.220718   \n",
            "124              FIRESTONE       701.302450        778.835627   \n",
            "125           103RD STREET       794.947450        913.084370   \n",
            "126    IMPERIAL/WILMINGTON      2153.826317       2990.423996   \n",
            "127                COMPTON       675.170732       1288.045557   \n",
            "128                ARTESIA       556.031563       1070.685037   \n",
            "129                DEL AMO       525.588691        863.048305   \n",
            "130                WARDLOW       280.849478        421.538527   \n",
            "131                 WILLOW       605.861490        958.255261   \n",
            "132  PACIFIC COAST HIGHWAY       528.977889       1067.724376   \n",
            "133                ANAHEIM       430.189455       1331.269112   \n",
            "134             5TH STREET      1025.126503       1821.591796   \n",
            "135             1ST STREET       591.905936       1272.312592   \n",
            "136           TRANSIT MALL              NaN       2961.644283   \n",
            "\n",
            "     Yearly Boardings  Yearly Alightings     Stop   Latitude   Longitude  \n",
            "0        9.300574e+05                NaN  80101.0  33.768071 -118.192921  \n",
            "1        3.575118e+05       6.957186e+04  80102.0  33.772258 -118.193700  \n",
            "2        6.594486e+05       1.234908e+05  80105.0  33.781830 -118.189384  \n",
            "3        5.582377e+05       1.943467e+05  80106.0  33.789090 -118.189382  \n",
            "4        7.016616e+05       1.938444e+05  80107.0  33.807079 -118.189834  \n",
            "5        3.040920e+05       1.269966e+05  80108.0  33.819865 -118.196090  \n",
            "6        6.085027e+05       1.880183e+05  80109.0  33.848222 -118.211017  \n",
            "7        7.341445e+05       3.062745e+05  80110.0  33.876082 -118.222503  \n",
            "8        7.946843e+05       4.103645e+05  80111.0  33.897490 -118.224249  \n",
            "9        1.679975e+06       1.128503e+06  80112.0  33.928048 -118.237555  \n",
            "10       5.354209e+05       3.950433e+05  80113.0  33.942220 -118.243159  \n",
            "11       4.429093e+05       3.553061e+05  80114.0  33.959611 -118.243205  \n",
            "12       6.686898e+05       5.695352e+05  80115.0  33.973740 -118.243271  \n",
            "13       3.584047e+05       3.624196e+05  80116.0  33.988760 -118.243398  \n",
            "14       3.750828e+05       4.154729e+05  80117.0  34.002920 -118.243303  \n",
            "15       2.303688e+05       2.483434e+05  80118.0  34.019650 -118.243084  \n",
            "16       3.241382e+05       3.768313e+05  80119.0  34.026807 -118.255505  \n",
            "17       4.009382e+05       7.354740e+05  80120.0  34.033155 -118.269333  \n",
            "18       2.450427e+05       7.327528e+05  80121.0  34.040735 -118.266118  \n",
            "19                NaN       4.053347e+06  80122.0  34.048610 -118.258822  \n",
            "22       3.671239e+06                NaN  80122.0  34.048610 -118.258822  \n",
            "23       7.874684e+05       2.526126e+05  80121.0  34.040735 -118.266118  \n",
            "24       7.267659e+05       3.396013e+05  80120.0  34.033155 -118.269333  \n",
            "25       3.152382e+05       3.210210e+05  80119.0  34.026807 -118.255505  \n",
            "26       2.360276e+05       2.203686e+05  80118.0  34.019650 -118.243084  \n",
            "27       3.744484e+05       3.564341e+05  80117.0  34.002920 -118.243303  \n",
            "28       3.252532e+05       3.414537e+05  80116.0  33.988760 -118.243398  \n",
            "29       5.413848e+05       5.911678e+05  80115.0  33.973740 -118.243271  \n",
            "30       3.617736e+05       4.300154e+05  80114.0  33.959611 -118.243205  \n",
            "31       3.914666e+05       4.762923e+05  80113.0  33.942220 -118.243159  \n",
            "..                ...                ...      ...        ...         ...  \n",
            "105      5.528549e+04       4.397893e+04  80114.0  33.959611 -118.243205  \n",
            "106      9.435059e+04       7.311036e+04  80115.0  33.973740 -118.243271  \n",
            "107      3.866766e+04       4.215841e+04  80116.0  33.988760 -118.243398  \n",
            "108      5.804274e+04       7.237146e+04  80117.0  34.002920 -118.243303  \n",
            "109      1.574786e+04       2.093244e+04  80118.0  34.019650 -118.243084  \n",
            "110      4.296842e+04       3.741862e+04  80119.0  34.026807 -118.255505  \n",
            "111      2.559314e+04       6.833594e+04  80120.0  34.033155 -118.269333  \n",
            "112      3.885925e+04       1.240665e+05  80121.0  34.040735 -118.266118  \n",
            "113               NaN       4.663711e+05  80122.0  34.048610 -118.258822  \n",
            "116      4.036536e+05                NaN  80122.0  34.048610 -118.258822  \n",
            "117      1.258870e+05       3.317397e+04  80121.0  34.040735 -118.266118  \n",
            "118      5.534786e+04       2.747694e+04  80120.0  34.033155 -118.269333  \n",
            "119      4.025537e+04       3.136732e+04  80119.0  34.026807 -118.255505  \n",
            "120      1.971352e+04       1.285192e+04  80118.0  34.019650 -118.243084  \n",
            "121      6.092137e+04       4.620237e+04  80117.0  34.002920 -118.243303  \n",
            "122      3.610415e+04       3.089518e+04  80116.0  33.988760 -118.243398  \n",
            "123      5.804076e+04       8.132880e+04  80115.0  33.973740 -118.243271  \n",
            "124      4.067554e+04       4.517247e+04  80114.0  33.959611 -118.243205  \n",
            "125      4.610695e+04       5.295889e+04  80113.0  33.942220 -118.243159  \n",
            "126      1.249219e+05       1.734446e+05  80112.0  33.928048 -118.237555  \n",
            "127      3.915990e+04       7.470664e+04  80111.0  33.897490 -118.224249  \n",
            "128      3.224983e+04       6.209973e+04  80110.0  33.876082 -118.222503  \n",
            "129      3.048414e+04       5.005680e+04  80109.0  33.848222 -118.211017  \n",
            "130      1.628927e+04       2.444923e+04  80108.0  33.819865 -118.196090  \n",
            "131      3.513997e+04       5.557881e+04  80107.0  33.807079 -118.189834  \n",
            "132      3.068072e+04       6.192801e+04  80106.0  33.789090 -118.189382  \n",
            "133      2.495099e+04       7.721361e+04  80105.0  33.781830 -118.189384  \n",
            "134      5.945734e+04       1.056523e+05  80154.0  33.773598 -118.189412  \n",
            "135      3.433054e+04       7.379413e+04  80153.0  33.768740 -118.189362  \n",
            "136               NaN       1.717754e+05  80101.0  33.768071 -118.192921  \n",
            "\n",
            "[123 rows x 8 columns]\n"
          ],
          "name": "stdout"
        }
      ]
    },
    {
      "metadata": {
        "id": "5BKtFsYJlWJJ",
        "colab_type": "text"
      },
      "cell_type": "markdown",
      "source": [
        "The spreadsheets before 2014 are also different from 2014, so we need to read the file slightly differently."
      ]
    },
    {
      "metadata": {
        "id": "JCaVcYndldXD",
        "colab_type": "code",
        "outputId": "2a91891f-b57b-45b5-872a-ccf0ad25df8e",
        "colab": {
          "base_uri": "https://localhost:8080/",
          "height": 827
        }
      },
      "cell_type": "code",
      "source": [
        "blue_ridership_13_df = pd.read_excel(\"RailActivityByStationFY2013.xls\", sheet_name=\"Red Line\", skiprows=6, skipcols=3, header=None)\n",
        "blue_ridership_13_df.columns = [\"Temp1\", \"Temp2\", \"Temp3\", \"Station\", \n",
        "                                \"Daily Boardings\", \"Daily Alightings\",\n",
        "                                \"Yearly Boardings\", \"Yearly Alightings\", \"Temp4\"]\n",
        "blue_ridership_13_df.drop(columns=[\"Temp1\", \"Temp2\", \"Temp3\", \"Temp4\"], inplace=True)\n",
        "    \n",
        "invalid_row_indicies = invalid_rows_to_remove(blue_ridership_13_df)\n",
        "\n",
        "blue_ridership_13_df.drop(invalid_row_indicies, inplace=True)\n",
        "blue_ridership_13_df.head(24)"
      ],
      "execution_count": 0,
      "outputs": [
        {
          "output_type": "stream",
          "text": [
            "[13, 14, 15, 29, 30, 31, 32, 33, 34, 48, 49, 50, 64, 65, 66, 67, 68, 69, 83, 84, 85, 99]\n",
            "[13, 14, 15, 29, 30, 31, 32, 33, 34, 48, 49, 50, 64, 65, 66, 67, 68, 69, 83, 84, 85, 99]\n"
          ],
          "name": "stdout"
        },
        {
          "output_type": "execute_result",
          "data": {
            "text/html": [
              "<div>\n",
              "<style scoped>\n",
              "    .dataframe tbody tr th:only-of-type {\n",
              "        vertical-align: middle;\n",
              "    }\n",
              "\n",
              "    .dataframe tbody tr th {\n",
              "        vertical-align: top;\n",
              "    }\n",
              "\n",
              "    .dataframe thead th {\n",
              "        text-align: right;\n",
              "    }\n",
              "</style>\n",
              "<table border=\"1\" class=\"dataframe\">\n",
              "  <thead>\n",
              "    <tr style=\"text-align: right;\">\n",
              "      <th></th>\n",
              "      <th>Station</th>\n",
              "      <th>Daily Boardings</th>\n",
              "      <th>Daily Alightings</th>\n",
              "      <th>Yearly Boardings</th>\n",
              "      <th>Yearly Alightings</th>\n",
              "    </tr>\n",
              "  </thead>\n",
              "  <tbody>\n",
              "    <tr>\n",
              "      <th>0</th>\n",
              "      <td>NORTH HOLLYWOOD</td>\n",
              "      <td>17043.498268</td>\n",
              "      <td>NaN</td>\n",
              "      <td>4.329049e+06</td>\n",
              "      <td>NaN</td>\n",
              "    </tr>\n",
              "    <tr>\n",
              "      <th>1</th>\n",
              "      <td>UNIVERSAL CITY</td>\n",
              "      <td>5841.520020</td>\n",
              "      <td>992.836616</td>\n",
              "      <td>1.483746e+06</td>\n",
              "      <td>2.521805e+05</td>\n",
              "    </tr>\n",
              "    <tr>\n",
              "      <th>2</th>\n",
              "      <td>HOLLYWOOD/HIGHLAND</td>\n",
              "      <td>5166.162485</td>\n",
              "      <td>3417.522140</td>\n",
              "      <td>1.312205e+06</td>\n",
              "      <td>8.680506e+05</td>\n",
              "    </tr>\n",
              "    <tr>\n",
              "      <th>3</th>\n",
              "      <td>HOLLYWOOD/VINE</td>\n",
              "      <td>3919.211729</td>\n",
              "      <td>2039.924896</td>\n",
              "      <td>9.954798e+05</td>\n",
              "      <td>5.181409e+05</td>\n",
              "    </tr>\n",
              "    <tr>\n",
              "      <th>4</th>\n",
              "      <td>HOLLYWOOD/WESTERN</td>\n",
              "      <td>2702.026266</td>\n",
              "      <td>2428.943284</td>\n",
              "      <td>6.863147e+05</td>\n",
              "      <td>6.169516e+05</td>\n",
              "    </tr>\n",
              "    <tr>\n",
              "      <th>5</th>\n",
              "      <td>VERMONT/SUNSET</td>\n",
              "      <td>2936.654699</td>\n",
              "      <td>1927.920659</td>\n",
              "      <td>7.459103e+05</td>\n",
              "      <td>4.896918e+05</td>\n",
              "    </tr>\n",
              "    <tr>\n",
              "      <th>6</th>\n",
              "      <td>VERMONT/SANTA MONICA</td>\n",
              "      <td>3279.945400</td>\n",
              "      <td>2207.323958</td>\n",
              "      <td>8.331061e+05</td>\n",
              "      <td>5.606603e+05</td>\n",
              "    </tr>\n",
              "    <tr>\n",
              "      <th>7</th>\n",
              "      <td>VERMONT/BEVERLY</td>\n",
              "      <td>2296.842346</td>\n",
              "      <td>2018.096703</td>\n",
              "      <td>5.833980e+05</td>\n",
              "      <td>5.125966e+05</td>\n",
              "    </tr>\n",
              "    <tr>\n",
              "      <th>8</th>\n",
              "      <td>WILSHIRE/VERMONT</td>\n",
              "      <td>2474.770530</td>\n",
              "      <td>4732.090484</td>\n",
              "      <td>6.285917e+05</td>\n",
              "      <td>1.201951e+06</td>\n",
              "    </tr>\n",
              "    <tr>\n",
              "      <th>9</th>\n",
              "      <td>WESTLAKE</td>\n",
              "      <td>2198.559728</td>\n",
              "      <td>3270.661206</td>\n",
              "      <td>5.584342e+05</td>\n",
              "      <td>8.307479e+05</td>\n",
              "    </tr>\n",
              "    <tr>\n",
              "      <th>10</th>\n",
              "      <td>7TH/METRO CENTER</td>\n",
              "      <td>5424.164746</td>\n",
              "      <td>12107.040234</td>\n",
              "      <td>1.377738e+06</td>\n",
              "      <td>3.075188e+06</td>\n",
              "    </tr>\n",
              "    <tr>\n",
              "      <th>11</th>\n",
              "      <td>PERSHING SQUARE</td>\n",
              "      <td>1627.270378</td>\n",
              "      <td>4942.947473</td>\n",
              "      <td>4.133267e+05</td>\n",
              "      <td>1.255509e+06</td>\n",
              "    </tr>\n",
              "    <tr>\n",
              "      <th>12</th>\n",
              "      <td>CIVIC CENTER</td>\n",
              "      <td>863.636874</td>\n",
              "      <td>2954.178815</td>\n",
              "      <td>2.193638e+05</td>\n",
              "      <td>7.503614e+05</td>\n",
              "    </tr>\n",
              "    <tr>\n",
              "      <th>16</th>\n",
              "      <td>UNION</td>\n",
              "      <td>14132.164765</td>\n",
              "      <td>NaN</td>\n",
              "      <td>3.589570e+06</td>\n",
              "      <td>NaN</td>\n",
              "    </tr>\n",
              "    <tr>\n",
              "      <th>17</th>\n",
              "      <td>CIVIC CENTER</td>\n",
              "      <td>2756.239143</td>\n",
              "      <td>893.735875</td>\n",
              "      <td>7.000847e+05</td>\n",
              "      <td>2.270089e+05</td>\n",
              "    </tr>\n",
              "    <tr>\n",
              "      <th>18</th>\n",
              "      <td>PERSHING SQUARE</td>\n",
              "      <td>5212.392783</td>\n",
              "      <td>1759.199991</td>\n",
              "      <td>1.323948e+06</td>\n",
              "      <td>4.468368e+05</td>\n",
              "    </tr>\n",
              "    <tr>\n",
              "      <th>19</th>\n",
              "      <td>7TH/METRO CENTER</td>\n",
              "      <td>11859.826371</td>\n",
              "      <td>6301.029652</td>\n",
              "      <td>3.012396e+06</td>\n",
              "      <td>1.600462e+06</td>\n",
              "    </tr>\n",
              "    <tr>\n",
              "      <th>20</th>\n",
              "      <td>WESTLAKE</td>\n",
              "      <td>3678.415669</td>\n",
              "      <td>2789.540722</td>\n",
              "      <td>9.343176e+05</td>\n",
              "      <td>7.085433e+05</td>\n",
              "    </tr>\n",
              "    <tr>\n",
              "      <th>21</th>\n",
              "      <td>WILSHIRE/VERMONT</td>\n",
              "      <td>5776.290262</td>\n",
              "      <td>3323.686017</td>\n",
              "      <td>1.467178e+06</td>\n",
              "      <td>8.442162e+05</td>\n",
              "    </tr>\n",
              "    <tr>\n",
              "      <th>22</th>\n",
              "      <td>VERMONT/BEVERLY</td>\n",
              "      <td>2299.738548</td>\n",
              "      <td>2362.495995</td>\n",
              "      <td>5.841336e+05</td>\n",
              "      <td>6.000740e+05</td>\n",
              "    </tr>\n",
              "    <tr>\n",
              "      <th>23</th>\n",
              "      <td>VERMONT/SANTA MONICA</td>\n",
              "      <td>2580.100414</td>\n",
              "      <td>3592.082285</td>\n",
              "      <td>6.553455e+05</td>\n",
              "      <td>9.123889e+05</td>\n",
              "    </tr>\n",
              "    <tr>\n",
              "      <th>24</th>\n",
              "      <td>VERMONT/SUNSET</td>\n",
              "      <td>1950.648279</td>\n",
              "      <td>3213.209745</td>\n",
              "      <td>4.954647e+05</td>\n",
              "      <td>8.161553e+05</td>\n",
              "    </tr>\n",
              "    <tr>\n",
              "      <th>25</th>\n",
              "      <td>HOLLYWOOD/WESTERN</td>\n",
              "      <td>2494.016243</td>\n",
              "      <td>2747.286532</td>\n",
              "      <td>6.334801e+05</td>\n",
              "      <td>6.978108e+05</td>\n",
              "    </tr>\n",
              "    <tr>\n",
              "      <th>26</th>\n",
              "      <td>HOLLYWOOD/VINE</td>\n",
              "      <td>2255.542232</td>\n",
              "      <td>4111.267856</td>\n",
              "      <td>5.729077e+05</td>\n",
              "      <td>1.044262e+06</td>\n",
              "    </tr>\n",
              "  </tbody>\n",
              "</table>\n",
              "</div>"
            ],
            "text/plain": [
              "                 Station  Daily Boardings  Daily Alightings  Yearly Boardings  \\\n",
              "0        NORTH HOLLYWOOD     17043.498268               NaN      4.329049e+06   \n",
              "1         UNIVERSAL CITY      5841.520020        992.836616      1.483746e+06   \n",
              "2     HOLLYWOOD/HIGHLAND      5166.162485       3417.522140      1.312205e+06   \n",
              "3         HOLLYWOOD/VINE      3919.211729       2039.924896      9.954798e+05   \n",
              "4      HOLLYWOOD/WESTERN      2702.026266       2428.943284      6.863147e+05   \n",
              "5         VERMONT/SUNSET      2936.654699       1927.920659      7.459103e+05   \n",
              "6   VERMONT/SANTA MONICA      3279.945400       2207.323958      8.331061e+05   \n",
              "7        VERMONT/BEVERLY      2296.842346       2018.096703      5.833980e+05   \n",
              "8       WILSHIRE/VERMONT      2474.770530       4732.090484      6.285917e+05   \n",
              "9               WESTLAKE      2198.559728       3270.661206      5.584342e+05   \n",
              "10      7TH/METRO CENTER      5424.164746      12107.040234      1.377738e+06   \n",
              "11       PERSHING SQUARE      1627.270378       4942.947473      4.133267e+05   \n",
              "12          CIVIC CENTER       863.636874       2954.178815      2.193638e+05   \n",
              "16                 UNION     14132.164765               NaN      3.589570e+06   \n",
              "17          CIVIC CENTER      2756.239143        893.735875      7.000847e+05   \n",
              "18       PERSHING SQUARE      5212.392783       1759.199991      1.323948e+06   \n",
              "19      7TH/METRO CENTER     11859.826371       6301.029652      3.012396e+06   \n",
              "20              WESTLAKE      3678.415669       2789.540722      9.343176e+05   \n",
              "21      WILSHIRE/VERMONT      5776.290262       3323.686017      1.467178e+06   \n",
              "22       VERMONT/BEVERLY      2299.738548       2362.495995      5.841336e+05   \n",
              "23  VERMONT/SANTA MONICA      2580.100414       3592.082285      6.553455e+05   \n",
              "24        VERMONT/SUNSET      1950.648279       3213.209745      4.954647e+05   \n",
              "25     HOLLYWOOD/WESTERN      2494.016243       2747.286532      6.334801e+05   \n",
              "26        HOLLYWOOD/VINE      2255.542232       4111.267856      5.729077e+05   \n",
              "\n",
              "    Yearly Alightings  \n",
              "0                 NaN  \n",
              "1        2.521805e+05  \n",
              "2        8.680506e+05  \n",
              "3        5.181409e+05  \n",
              "4        6.169516e+05  \n",
              "5        4.896918e+05  \n",
              "6        5.606603e+05  \n",
              "7        5.125966e+05  \n",
              "8        1.201951e+06  \n",
              "9        8.307479e+05  \n",
              "10       3.075188e+06  \n",
              "11       1.255509e+06  \n",
              "12       7.503614e+05  \n",
              "16                NaN  \n",
              "17       2.270089e+05  \n",
              "18       4.468368e+05  \n",
              "19       1.600462e+06  \n",
              "20       7.085433e+05  \n",
              "21       8.442162e+05  \n",
              "22       6.000740e+05  \n",
              "23       9.123889e+05  \n",
              "24       8.161553e+05  \n",
              "25       6.978108e+05  \n",
              "26       1.044262e+06  "
            ]
          },
          "metadata": {
            "tags": []
          },
          "execution_count": 18
        }
      ]
    },
    {
      "metadata": {
        "id": "uOl5DAhOmQWW",
        "colab_type": "text"
      },
      "cell_type": "markdown",
      "source": [
        ""
      ]
    },
    {
      "metadata": {
        "id": "9GSYSDugm54T",
        "colab_type": "text"
      },
      "cell_type": "markdown",
      "source": [
        "## Visualizing Metro Data\n",
        "\n",
        "Using Matplotlib to visualize data"
      ]
    },
    {
      "metadata": {
        "id": "-xQKf2ylnAgp",
        "colab_type": "code",
        "outputId": "fd42af9e-73c8-4266-e8a6-b49e038897d7",
        "colab": {
          "base_uri": "https://localhost:8080/",
          "height": 414
        }
      },
      "cell_type": "code",
      "source": [
        "y_pos = np.arange(len(blue_ridership_14_df[0:20][[\"Station\"]]))\n",
        "stations = np.array(blue_ridership_14_df[0:20][[\"Station\"]]).flatten()\n",
        "boardings = np.array(blue_ridership_14_df[0:20][[\"Daily Boardings\"]].values).flatten()\n",
        "\n",
        "plt.bar(y_pos, boardings, align='center', alpha=0.5)\n",
        "plt.xticks(y_pos, stations)\n",
        "plt.xticks(rotation='vertical')\n",
        "plt.ylabel(\"Average Daily Boardings\")\n",
        "plt.title(\"Blue Line Ridership Breakdown\")"
      ],
      "execution_count": 0,
      "outputs": [
        {
          "output_type": "execute_result",
          "data": {
            "text/plain": [
              "Text(0.5, 1.0, 'Blue Line Ridership Breakdown')"
            ]
          },
          "metadata": {
            "tags": []
          },
          "execution_count": 54
        },
        {
          "output_type": "display_data",
          "data": {
            "image/png": "[encoded data removed]",
            "text/plain": [
              "<Figure size 432x288 with 1 Axes>"
            ]
          },
          "metadata": {
            "tags": []
          }
        }
      ]
    },
    {
      "metadata": {
        "id": "LZ7swMHtAkpI",
        "colab_type": "text"
      },
      "cell_type": "markdown",
      "source": [
        "Displays keys of the dictionary"
      ]
    },
    {
      "metadata": {
        "id": "acCsRwG6exyz",
        "colab_type": "code",
        "colab": {}
      },
      "cell_type": "code",
      "source": [
        "# Our collection of data on ridership data in a 2D Array\n",
        "ridership_by_year = []\n",
        "\n",
        "# lines_2010 = [\"Blue Line\", \n",
        "#               \"Red Line\", \n",
        "#               \"Purple Line\", \n",
        "#               \"Green Line\", \n",
        "#               \"Gold Line, before East L A extn\",\n",
        "#               \"Gold Line, after East L A extn\"]\n",
        "\n",
        "# ridership_df_list = []\n",
        "# for line in lines_2010:\n",
        "#     print(\"Entering \", line)\n",
        "#     line_ridership_2010_df = pd.read_excel(\"RailActivityByStationFY2010.xls\", sheet_name=line, skiprows=6, skipcols=3, header=None)\n",
        "#     if line == \"Red Line\" or line == \"Purple Line\":\n",
        "#       line_ridership_2010_df.columns = [\"Temp1\", \"Temp2\", \"Temp3\", \"Station\", \n",
        "#                                 \"Daily Boardings\", \"Daily Alightings\",\n",
        "#                                 \"Yearly Boardings\", \"Yearly Alightings\"]\n",
        "# #       line_ridership_df.drop(columns=[\"Temp1\", \"Temp2\", \"Temp3\", \"Temp4\"], inplace=True)\n",
        "#     else: # Non-red and non-purple line\n",
        "#       line_ridership_2010_df.columns = [\"Temp1\", \"Temp2\", \"Temp3\", \"Station\", \n",
        "#                                 \"Daily Boardings\", \"Daily Alightings\",\n",
        "#                                 \"Yearly Boardings\", \"Yearly Alightings\"]\n",
        "# #       line_ridership_df.drop(columns=[\"Temp1\", \"Temp2\", \"Temp3\", \"Temp4\"], inplace=True)\n",
        "#     ridership_df_list.append(line_ridership_2010_df)\n",
        "#     print(line)\n",
        "    \n",
        "# ridership_by_year.append(ridership_df_list)\n",
        "\n",
        "filenames = [\n",
        "             \"RailActivityByStationFY2011.xls\",\n",
        "             \"RailActivityByStationFY2012.xls\",\n",
        "             \"RailActivityByStationFY2013.xls\",\n",
        "#              \"RailActivityByStationFY2014.xls\"\n",
        "            ]\n",
        "\n",
        "# Excluded Expo Line because Expo was added only starting from 2013\n",
        "default_lines = [\"Blue Line\", \"Red Line\", \"Purple Line\", \"Green Line\", \"Gold Line\"]\n",
        "\n",
        "# Iterating through every file, each file having data for a specified year \n",
        "for filename in filenames:\n",
        "  print(filename)\n",
        "  ridership_df_list = []\n",
        "  # Storing information about each line in a dataframe and append to a list\n",
        "  for line in default_lines:\n",
        "    print(line)\n",
        "    line_ridership_df = pd.read_excel(filename, sheet_name=line, skiprows=6, skipcols=3, header=None)\n",
        "    if filename != \"RailActivityByStationFY2014.xls\" and (line == \"Red Line\" or line == \"Purple Line\"):\n",
        "      line_ridership_df.columns = [\"Temp1\", \"Temp2\", \"Temp3\", \"Station\", \n",
        "                                \"Daily Boardings\", \"Daily Alightings\",\n",
        "                                \"Yearly Boardings\", \"Yearly Alightings\", \"Temp4\"]\n",
        "      line_ridership_df.drop(columns=[\"Temp1\", \"Temp2\", \"Temp3\", \"Temp4\"], inplace=True)\n",
        "    else: # Non-red and non-purple line\n",
        "      line_ridership_df.columns = [\"Temp1\", \"Temp2\", \"Temp3\", \"Station\", \n",
        "                                \"Daily Boardings\", \"Daily Alightings\",\n",
        "                                \"Yearly Boardings\", \"Yearly Alightings\"]\n",
        "      line_ridership_df.drop(columns=[\"Temp1\", \"Temp2\", \"Temp3\"], inplace=True)\n",
        "    \n",
        "    invalid_row_indicies = invalid_rows_to_remove(line_ridership_df)\n",
        "    line_ridership_df.drop(invalid_row_indicies, inplace=True)\n",
        "    print(line_ridership_df)\n",
        "    ridership_df_list.append(line_ridership_df)\n",
        "    \n",
        "  ridership_by_year.append(ridership_df_list)\n",
        " \n",
        "    \n",
        "    \n",
        "  "
      ],
      "execution_count": 0,
      "outputs": []
    },
    {
      "metadata": {
        "id": "JcLbAdm6aD9C",
        "colab_type": "text"
      },
      "cell_type": "markdown",
      "source": [
        "## Spatial Indexing\n",
        "\n",
        "We can identify which metro stations belong to which census tract using Rtree's spatial indexing"
      ]
    },
    {
      "metadata": {
        "id": "vQ4U2xCmaP3y",
        "colab_type": "code",
        "colab": {}
      },
      "cell_type": "code",
      "source": [
        "# initialize rtree spatial index\n",
        "tract_index = rtree.index.Index()"
      ],
      "execution_count": 0,
      "outputs": []
    },
    {
      "metadata": {
        "id": "AtHCxWbCyJes",
        "colab_type": "text"
      },
      "cell_type": "markdown",
      "source": [
        "**Shapefile and Census data mapped across tracts**"
      ]
    },
    {
      "metadata": {
        "id": "jP2hrd3q1Il8",
        "colab_type": "code",
        "outputId": "61b7e2ba-faea-44c0-b52b-18160be94ff4",
        "colab": {
          "base_uri": "https://localhost:8080/",
          "height": 122
        }
      },
      "cell_type": "code",
      "source": [
        "from google.colab import drive\n",
        "drive.mount('/gdrive')"
      ],
      "execution_count": 10,
      "outputs": [
        {
          "output_type": "stream",
          "text": [
            "Go to this URL in a browser: https://accounts.google.com/o/oauth2/auth?client_id=947318989803-6bn6qk8qdgf4n4g3pfee6491hc0brc4i.apps.googleusercontent.com&redirect_uri=urn%3Aietf%3Awg%3Aoauth%3A2.0%3Aoob&scope=email%20https%3A%2F%2Fwww.googleapis.com%2Fauth%2Fdocs.test%20https%3A%2F%2Fwww.googleapis.com%2Fauth%2Fdrive%20https%3A%2F%2Fwww.googleapis.com%2Fauth%2Fdrive.photos.readonly%20https%3A%2F%2Fwww.googleapis.com%2Fauth%2Fpeopleapi.readonly&response_type=code\n",
            "\n",
            "Enter your authorization code:\n",
            "··········\n",
            "Mounted at /gdrive\n"
          ],
          "name": "stdout"
        }
      ]
    },
    {
      "metadata": {
        "id": "zPlXmtYd2ReU",
        "colab_type": "code",
        "outputId": "40ec2924-6745-4be9-8c2b-18a03fe10566",
        "colab": {
          "base_uri": "https://localhost:8080/",
          "height": 136
        }
      },
      "cell_type": "code",
      "source": [
        "import os\n",
        "os.listdir(\"/gdrive/Team Drives/CSCI499 Final Proj /tl_2018_06_tract/\")"
      ],
      "execution_count": 11,
      "outputs": [
        {
          "output_type": "execute_result",
          "data": {
            "text/plain": [
              "['tl_2018_06_tract.shx',\n",
              " 'tl_2018_06_tract.prj',\n",
              " 'tl_2018_06_tract.shp.iso.xml',\n",
              " 'tl_2018_06_tract.cpg',\n",
              " 'tl_2018_06_tract.dbf',\n",
              " 'tl_2018_06_tract.shp.ea.iso.xml',\n",
              " 'tl_2018_06_tract.shp']"
            ]
          },
          "metadata": {
            "tags": []
          },
          "execution_count": 11
        }
      ]
    },
    {
      "metadata": {
        "id": "OOoSb9zxIYZA",
        "colab_type": "text"
      },
      "cell_type": "markdown",
      "source": [
        "Looking at the properties of census tracts we are interested in"
      ]
    },
    {
      "metadata": {
        "id": "jgOnZpYbyLJ9",
        "colab_type": "code",
        "outputId": "2239a105-4b5e-4667-dc86-5c4303f6efcd",
        "colab": {
          "base_uri": "https://localhost:8080/",
          "height": 360
        }
      },
      "cell_type": "code",
      "source": [
        "                                                                                                                                                                          \n",
        "# open shapefile with fiona                                                                                                                                                                                 \n",
        "with fiona.open(\"/gdrive/Team Drives/CSCI499 Final Proj /tl_2018_06_tract/tl_2018_06_tract.shp\", \"r\") as f:                                                                                                                                         \n",
        "      # get first item in shape iterator                                                                                                                                                                    \n",
        "      it = iter(f)                                                                                                                                                                                          \n",
        "      example_data = next(it)                                                                                                                                                                               \n",
        "      print(\"fiona parsed us an object of type:\", type(example_data))                                                                                                                                       \n",
        "                                                                                                                                                                                                            \n",
        "print(\"Keys specifying shape info\", example_data.keys())                                                                                                                                                    \n",
        "                                                                                                                                                                                                            \n",
        "print(\"keys:\", example_data[\"geometry\"].keys())                                                                                                                                                             \n",
        "print(\"coordinates:\", example_data[\"geometry\"][\"coordinates\"])                                                                                                                                              \n",
        "max_coord = max(example_data[\"geometry\"][\"coordinates\"])                                                                                                                                                    \n",
        "min_coord = min(example_data[\"geometry\"][\"coordinates\"])                                                                                                                                                    \n",
        "                                                                                                                                                                                                            \n",
        "print(\"type:\", example_data[\"geometry\"][\"type\"])                                                                                                                                                            \n",
        "                                                                                                                                                                                                            \n",
        "print(\"keys:\", example_data[\"properties\"].keys())                                                                                                                                                           \n",
        "for k in example_data[\"properties\"].keys():                                                                                                                                                                 \n",
        "      print(example_data[\"properties\"][k])                                                                                                                                                                  \n",
        "                                                                                                                                                                                                            \n",
        "print(\"geoid:\", example_data[\"properties\"][\"GEOID\"])                                                                                                                                                        \n"
      ],
      "execution_count": 12,
      "outputs": [
        {
          "output_type": "stream",
          "text": [
            "fiona parsed us an object of type: <class 'dict'>\n",
            "Keys specifying shape info dict_keys(['type', 'id', 'properties', 'geometry'])\n",
            "keys: dict_keys(['type', 'coordinates'])\n",
            "coordinates: [[(-118.581186, 34.143176), (-118.580994, 34.143341), (-118.580899, 34.143571), (-118.580927, 34.143786), (-118.580891, 34.144047), (-118.58094, 34.14423), (-118.580847, 34.14443), (-118.580915, 34.144628), (-118.580912, 34.144997), (-118.580214, 34.145547), (-118.580124, 34.145652999999996), (-118.580072, 34.145738), (-118.580036, 34.145829), (-118.580018, 34.145922999999996), (-118.580013, 34.146277999999995), (-118.579994, 34.147815), (-118.579988, 34.148282), (-118.57996800000001, 34.149885999999995), (-118.579955, 34.150079999999996), (-118.57983300000001, 34.151289), (-118.579702, 34.152585), (-118.579639, 34.153175), (-118.579521, 34.154343), (-118.579411, 34.155438), (-118.579311, 34.156435), (-118.579205, 34.157481), (-118.577684, 34.157498), (-118.577584, 34.157508), (-118.577427, 34.157536), (-118.577275, 34.157579999999996), (-118.577151, 34.157629), (-118.577026, 34.157694), (-118.576908, 34.157772), (-118.576795, 34.157866), (-118.57670999999999, 34.157956), (-118.576625, 34.158069), (-118.576513, 34.158266999999995), (-118.576258, 34.158719999999995), (-118.576209, 34.158801), (-118.576118, 34.158923), (-118.57601199999999, 34.159037), (-118.575913, 34.159124), (-118.575783, 34.159219), (-118.575649, 34.159296999999995), (-118.575549, 34.159346), (-118.57541499999999, 34.159400999999995), (-118.575253, 34.159451), (-118.575085, 34.159486), (-118.574569, 34.159551), (-118.574343, 34.159587), (-118.574165, 34.159628), (-118.573948, 34.159693), (-118.573739, 34.159774), (-118.573539, 34.159869), (-118.573387, 34.159956), (-118.573242, 34.160050999999996), (-118.573073, 34.160181), (-118.572924, 34.160316), (-118.572051, 34.161139999999996), (-118.57134500000001, 34.161806), (-118.571227, 34.161910999999996), (-118.57110399999999, 34.162013), (-118.570978, 34.162110999999996), (-118.570781, 34.162251), (-118.570574, 34.162383999999996), (-118.570225, 34.162594999999996), (-118.568892, 34.1634), (-118.568761, 34.163469), (-118.568693, 34.163498), (-118.568623, 34.163528), (-118.568473, 34.163578), (-118.568361, 34.163607999999996), (-118.56818, 34.163641999999996), (-118.568026, 34.163658), (-118.566907, 34.163688), (-118.565849, 34.163714), (-118.565746, 34.163717), (-118.564707, 34.163742), (-118.564264, 34.163751), (-118.564056, 34.163742), (-118.563849, 34.163717), (-118.563686, 34.163686), (-118.563486, 34.163635), (-118.563293, 34.163568999999995), (-118.56313, 34.1635), (-118.563035, 34.163454), (-118.56219, 34.162987), (-118.562235, 34.162853999999996), (-118.562255, 34.162742), (-118.56226, 34.162686), (-118.56225, 34.161805), (-118.562259, 34.161754), (-118.562274, 34.161711), (-118.562295, 34.16167), (-118.562322, 34.161632), (-118.562354, 34.161595999999996), (-118.562734, 34.161235), (-118.56280699999999, 34.161142), (-118.562856, 34.161051), (-118.562887, 34.160968), (-118.562906, 34.160871), (-118.562967, 34.159969), (-118.56298, 34.159923), (-118.563001, 34.15987), (-118.56303, 34.159819999999996), (-118.563382, 34.159314), (-118.563411, 34.159257), (-118.56343, 34.15921), (-118.56353, 34.158974), (-118.56353899999999, 34.158916999999995), (-118.563536, 34.158865), (-118.563521, 34.158809), (-118.563496, 34.158761), (-118.563469, 34.158725), (-118.563352, 34.158598), (-118.56326899999999, 34.158522), (-118.563202, 34.158471), (-118.563182, 34.158144), (-118.56318999999999, 34.158029), (-118.563218, 34.157916), (-118.563251, 34.157834), (-118.563311, 34.15773), (-118.563376, 34.157646), (-118.56345400000001, 34.157568999999995), (-118.563543, 34.1575), (-118.563641, 34.157441), (-118.56430399999999, 34.15714), (-118.564453, 34.157064999999996), (-118.564607, 34.156971999999996), (-118.564672, 34.156925), (-118.564797, 34.156825), (-118.56491, 34.156717), (-118.565012, 34.156600000000005), (-118.56504, 34.156560999999996), (-118.565101, 34.156476999999995), (-118.565177, 34.156348), (-118.56523899999999, 34.156214), (-118.565391, 34.155766), (-118.56717, 34.147991999999995), (-118.567518, 34.143905), (-118.567542, 34.143848999999996), (-118.56873, 34.141059), (-118.568895, 34.13847), (-118.56881899999999, 34.138448), (-118.568685, 34.138433), (-118.568572, 34.138422), (-118.568444, 34.138404), (-118.568378, 34.138377999999996), (-118.568325, 34.138351), (-118.568277, 34.13832), (-118.568198, 34.138227), (-118.568115, 34.138103), (-118.567993, 34.1379), (-118.567926, 34.137769999999996), (-118.567837, 34.137653), (-118.567768, 34.137599), (-118.567687, 34.137563), (-118.567607, 34.137541999999996), (-118.567533, 34.137536), (-118.567444, 34.137544), (-118.56737, 34.137557), (-118.567223, 34.137606), (-118.56701699999999, 34.137679999999996), (-118.566731, 34.13778), (-118.566557, 34.137834), (-118.566471, 34.13784), (-118.566382, 34.137831), (-118.566311, 34.137805), (-118.566265, 34.137766), (-118.566214, 34.137718), (-118.566174, 34.137648999999996), (-118.566154, 34.137533999999995), (-118.56613, 34.137339), (-118.566125, 34.137046), (-118.566144, 34.136835999999995), (-118.56614, 34.136739999999996), (-118.566112, 34.136661), (-118.566045, 34.136610999999995), (-118.566001, 34.136609), (-118.565933, 34.136433), (-118.565878, 34.136281), (-118.565848, 34.136123999999995), (-118.56578, 34.135906999999996), (-118.565705, 34.135653999999995), (-118.565639, 34.135388), (-118.565576, 34.135112), (-118.565474, 34.134727), (-118.565428, 34.134581), (-118.56540799999999, 34.13449), (-118.565407, 34.134397), (-118.565404, 34.134228), (-118.565427, 34.134012), (-118.565449, 34.133859), (-118.56544, 34.133725), (-118.565416, 34.133575), (-118.565358, 34.133398), (-118.565264, 34.133143), (-118.56511499999999, 34.132819999999995), (-118.564953, 34.132494), (-118.564781, 34.132253), (-118.564454, 34.131766999999996), (-118.564385, 34.131673), (-118.564179, 34.131392), (-118.564017, 34.131147), (-118.564799, 34.131111), (-118.565316, 34.130383), (-118.565814, 34.130573), (-118.568733, 34.131688), (-118.574144, 34.133739), (-118.575736, 34.134342), (-118.577617, 34.135065), (-118.577621, 34.135079), (-118.57763299999999, 34.135196), (-118.577643, 34.135321), (-118.577636, 34.135534), (-118.577607, 34.135711), (-118.577569, 34.135982999999996), (-118.577495, 34.136463), (-118.577429, 34.13699), (-118.577372, 34.137176), (-118.577287, 34.137468), (-118.576988, 34.138608), (-118.57697999999999, 34.138764), (-118.576989, 34.138844), (-118.577019, 34.138909999999996), (-118.577053, 34.138981), (-118.577068, 34.139033), (-118.577112, 34.139078999999995), (-118.57731799999999, 34.139299), (-118.577717, 34.139497), (-118.578138, 34.139635999999996), (-118.578215, 34.139662), (-118.578824, 34.139756), (-118.5793, 34.139776999999995), (-118.579679, 34.139899), (-118.579898, 34.140170999999995), (-118.579931, 34.140616), (-118.580073, 34.14089), (-118.580411, 34.141079999999995), (-118.58069499999999, 34.141224), (-118.580858, 34.141452), (-118.581002, 34.14168), (-118.58095, 34.141878999999996), (-118.58101500000001, 34.142123), (-118.580932, 34.142507), (-118.581118, 34.142672), (-118.58126, 34.142931), (-118.581186, 34.143176)]]\n",
            "type: Polygon\n",
            "keys: odict_keys(['STATEFP', 'COUNTYFP', 'TRACTCE', 'GEOID', 'NAME', 'NAMELSAD', 'MTFCC', 'FUNCSTAT', 'ALAND', 'AWATER', 'INTPTLAT', 'INTPTLON'])\n",
            "06\n",
            "037\n",
            "137504\n",
            "06037137504\n",
            "1375.04\n",
            "Census Tract 1375.04\n",
            "G5020\n",
            "S\n",
            "3837562\n",
            "0\n",
            "+34.1480383\n",
            "-118.5720594\n",
            "geoid: 06037137504\n"
          ],
          "name": "stdout"
        }
      ]
    },
    {
      "metadata": {
        "id": "_5KWwQqdIj3J",
        "colab_type": "text"
      },
      "cell_type": "markdown",
      "source": [
        "Since we're interested only in census tracts in LA county, we will check each census tract shape item within the dataset and append it to our own data if it's in LA county, which means STATEFP is 6 (which is California) and COUNTYFP is 37 (which is Los Angeles County)."
      ]
    },
    {
      "metadata": {
        "id": "WcbvDXUkJBoD",
        "colab_type": "code",
        "colab": {}
      },
      "cell_type": "code",
      "source": [
        "la_shapes = list()                                                                                                                                                                                          \n",
        "with fiona.open(\"/gdrive/Team Drives/CSCI499 Final Proj /tl_2018_06_tract/tl_2018_06_tract.shp\", \"r\") as f:                                                                                                                                         \n",
        "     # print(\"orig len\", len(f))                                                                                                                                                                             \n",
        "      for shape in f:                                                                                                                                                                                       \n",
        "            if shape[\"properties\"][\"STATEFP\"]=='06' and shape[\"properties\"][\"COUNTYFP\"]=='037':                                                                                                             \n",
        "                  la_shapes.append(shape)      \n"
      ],
      "execution_count": 0,
      "outputs": []
    },
    {
      "metadata": {
        "id": "czJGcg-VJIPI",
        "colab_type": "text"
      },
      "cell_type": "markdown",
      "source": [
        "Now that we have the shape files for each census tract in LA county, we want to map census tract data to the geographical shape file that we extracted above."
      ]
    },
    {
      "metadata": {
        "id": "A-NsQ1o1JZl_",
        "colab_type": "code",
        "outputId": "ecdc294e-535c-4867-a018-b74abdf95ed9",
        "colab": {
          "base_uri": "https://localhost:8080/",
          "height": 71
        }
      },
      "cell_type": "code",
      "source": [
        "census_tract_data = {}                                                                                                                                                                                      \n",
        "# open the census data for reading                                                                                                                                                                          \n",
        "with open(\"/gdrive/Team Drives/CSCI499 Final Proj /new.csv\", \"r\") as f: # awful filename                                                                                                                                                \n",
        "  # parse out header                                                                                                                                                                                    \n",
        "  p = f.readline().replace(\",\",\" \").split()                                                                                                                                                             \n",
        "  print('p1', p)                                                                                                                                                                                        \n",
        "                                                                                                               \n",
        "  header = p                                                                                                                                                                                            \n",
        "  f.readline()                                                                                                                                                                                          \n",
        "# iterate over remaining lines                                                                                                                                                                        \n",
        "  for line in f:                                                                                                                                                                                                                                                                                                                                            \n",
        "\n",
        "      compos = [-1] # compos stores the positions of the relevant commas in the argument string                                                                                                       \n",
        "      compos.extend(t[2][1] for t in generate_tokens(StringIO(line).readline) if t[1] == ',')                                                                                                         \n",
        "      compos.append(len(line))                                                                                                                                                                        \n",
        "      parts = [ line[compos[i]+1:compos[i+1]] for i in xrange(len(compos)-1)]                                                                                                                         \n",
        "                                                                                                                                                             \n",
        "      assert len(header) == len(parts)                                                                                                                                                                \n",
        "      # create dictionary tracking data                                                                                                                                                               \n",
        "      line = dict(zip(header, parts))                                                                                                                                                                 \n",
        "      #print(line)                                                                                                                                                                                     \n",
        "      # add to file using FIPS name                                                                                                                                                                                                                                                                                                                                          \n",
        "      census_tract_data[line['Geo_TRACT']] = line                                                                                                                                                     \n",
        "\n",
        "\n",
        "print(header)                                                                                                                                                                                               \n",
        "\n",
        "la_shapes_ids = map(lambda x:x[0], la_shapes)  "
      ],
      "execution_count": 14,
      "outputs": [
        {
          "output_type": "stream",
          "text": [
            "p1 ['Geo_FIPS', 'Geo_GEOID', 'Geo_NAME', 'Geo_QName', 'Geo_STUSAB', 'Geo_SUMLEV', 'Geo_GEOCOMP', 'Geo_FILEID', 'Geo_LOGRECNO', 'Geo_US', 'Geo_REGION', 'Geo_DIVISION', 'Geo_STATECE', 'Geo_STATE', 'Geo_COUNTY', 'Geo_COUSUB', 'Geo_PLACE', 'Geo_PLACESE', 'Geo_TRACT', 'Geo_BLKGRP', 'Geo_CONCIT', 'Geo_AIANHH', 'Geo_AIANHHFP', 'Geo_AIHHTLI', 'Geo_AITSCE', 'Geo_AITS', 'Geo_ANRC', 'Geo_CBSA', 'Geo_CSA', 'Geo_METDIV', 'Geo_MACC', 'Geo_MEMI', 'Geo_NECTA', 'Geo_CNECTA', 'Geo_NECTADIV', 'Geo_UA', 'Geo_UACP', 'Geo_CDCURR', 'Geo_SLDU', 'Geo_SLDL', 'Geo_VTD', 'Geo_ZCTA3', 'Geo_ZCTA5', 'Geo_SUBMCD', 'Geo_SDELM', 'Geo_SDSEC', 'Geo_SDUNI', 'Geo_UR', 'Geo_PCI', 'Geo_TAZ', 'Geo_UGA', 'Geo_BTTR', 'Geo_BTBG', 'Geo_PUMA5', 'Geo_PUMA1', 'SE_A00001_001', 'SE_A00002_001', 'SE_A00002_002', 'SE_A00002_003', 'SE_A02001_001', 'SE_A02001_002', 'SE_A02001_003', 'SE_A01001_001', 'SE_A01001_002', 'SE_A01001_003', 'SE_A01001_004', 'SE_A01001_005', 'SE_A01001_006', 'SE_A01001_007', 'SE_A01001_008', 'SE_A01001_009', 'SE_A01001_010', 'SE_A01001_011', 'SE_A01001_012', 'SE_A01001_013', 'SE_A03001_001', 'SE_A03001_002', 'SE_A03001_003', 'SE_A03001_004', 'SE_A03001_005', 'SE_A03001_006', 'SE_A03001_007', 'SE_A03001_008', 'SE_A14008_001']\n",
            "['Geo_FIPS', 'Geo_GEOID', 'Geo_NAME', 'Geo_QName', 'Geo_STUSAB', 'Geo_SUMLEV', 'Geo_GEOCOMP', 'Geo_FILEID', 'Geo_LOGRECNO', 'Geo_US', 'Geo_REGION', 'Geo_DIVISION', 'Geo_STATECE', 'Geo_STATE', 'Geo_COUNTY', 'Geo_COUSUB', 'Geo_PLACE', 'Geo_PLACESE', 'Geo_TRACT', 'Geo_BLKGRP', 'Geo_CONCIT', 'Geo_AIANHH', 'Geo_AIANHHFP', 'Geo_AIHHTLI', 'Geo_AITSCE', 'Geo_AITS', 'Geo_ANRC', 'Geo_CBSA', 'Geo_CSA', 'Geo_METDIV', 'Geo_MACC', 'Geo_MEMI', 'Geo_NECTA', 'Geo_CNECTA', 'Geo_NECTADIV', 'Geo_UA', 'Geo_UACP', 'Geo_CDCURR', 'Geo_SLDU', 'Geo_SLDL', 'Geo_VTD', 'Geo_ZCTA3', 'Geo_ZCTA5', 'Geo_SUBMCD', 'Geo_SDELM', 'Geo_SDSEC', 'Geo_SDUNI', 'Geo_UR', 'Geo_PCI', 'Geo_TAZ', 'Geo_UGA', 'Geo_BTTR', 'Geo_BTBG', 'Geo_PUMA5', 'Geo_PUMA1', 'SE_A00001_001', 'SE_A00002_001', 'SE_A00002_002', 'SE_A00002_003', 'SE_A02001_001', 'SE_A02001_002', 'SE_A02001_003', 'SE_A01001_001', 'SE_A01001_002', 'SE_A01001_003', 'SE_A01001_004', 'SE_A01001_005', 'SE_A01001_006', 'SE_A01001_007', 'SE_A01001_008', 'SE_A01001_009', 'SE_A01001_010', 'SE_A01001_011', 'SE_A01001_012', 'SE_A01001_013', 'SE_A03001_001', 'SE_A03001_002', 'SE_A03001_003', 'SE_A03001_004', 'SE_A03001_005', 'SE_A03001_006', 'SE_A03001_007', 'SE_A03001_008', 'SE_A14008_001']\n"
          ],
          "name": "stdout"
        }
      ]
    },
    {
      "metadata": {
        "id": "MV_6HYNUJffO",
        "colab_type": "text"
      },
      "cell_type": "markdown",
      "source": [
        "Here we're defining the radius we're using to determine the census tract information we're using based on whether or not a census tract falls within a metro station's defined radius. You can change this radius value to see different prediction values."
      ]
    },
    {
      "metadata": {
        "id": "GmuA9_DlJ253",
        "colab_type": "code",
        "colab": {}
      },
      "cell_type": "code",
      "source": [
        "FACTOR = 68.75                                                                                                                                                                                        \n",
        "RADIUS = 1.5\n"
      ],
      "execution_count": 0,
      "outputs": []
    },
    {
      "metadata": {
        "id": "JWMurescJnZh",
        "colab_type": "text"
      },
      "cell_type": "markdown",
      "source": [
        "Here we define the function that returns all the traffic counts based on a given latitude and longitude (a location point)."
      ]
    },
    {
      "metadata": {
        "id": "xqilaA_CJn6v",
        "colab_type": "code",
        "colab": {}
      },
      "cell_type": "code",
      "source": [
        "def getNearbyTrafficIntersections(lat, lon):\n",
        "  lat = lat*FACTOR                                                                                                                                                                                      \n",
        "  lon = lon*FACTOR                                                                                                                                                                                      \n",
        "  \n",
        "  nearbyIntersections = list()\n",
        "  \n",
        "  traffic_df = pd.read_csv(\"/gdrive/Team Drives/CSCI499 Final Proj /LADOT_Traffic_Counts_Summary_w_latLong.csv\")\n",
        "  #print(traffic_df.head())\n",
        "  \n",
        "  for index, row in traffic_df.iterrows():\n",
        "    curr_lat = float(row[\"LAT\"])*FACTOR\n",
        "    curr_lon = float(row[\"LONG\"])*FACTOR\n",
        "    if sqrt((lat-curr_lat)**2 + (lon-curr_lon)**2)<=RADIUS:\n",
        "      print(row[\"Total\"])\n",
        "      nearbyIntersections.append(row[\"Total\"])\n",
        "  \n",
        "  return nearbyIntersections\n",
        "\n",
        "# Function that takes lat, long and returns list of census \n",
        "# tracts near station\n",
        "def getNearbyCensusTracts(lat, lon):                                                                                                                                                                        \n",
        "                                                                                                                                                                                                \n",
        "      lat = lat*FACTOR                                                                                                                                                                                      \n",
        "      lon = lon*FACTOR                                                                                                                                                                                      \n",
        "                                                                                                                                                                                                            \n",
        "      nearby_shapes = list()                                                                                                                                                                                \n",
        "                                                                                                                                                                                                            \n",
        "      for s in la_shapes:                                                                                                                                                                                   \n",
        "            curr_lat = float(s[\"properties\"][\"INTPTLAT\"])*FACTOR                                                                                                                                            \n",
        "            curr_lon = float(s[\"properties\"][\"INTPTLON\"])*FACTOR                                                                                                                                            \n",
        "            if sqrt((lat-curr_lat)**2 + (lon-curr_lon)**2)<=RADIUS:\n",
        "            #if abs(lat-curr_lat)<=RADIUS and abs(lon-curr_lon)<=RADIUS:                                                                                                                                     \n",
        "#                  print(\"lat diff: \", abs(lat-curr_lat), \" and long diff: \", abs(lon-curr_lon))                                                                                                            \n",
        " #                 print(\"lat:\", curr_lat,  \"long:\", curr_lon)                                                                                                                                              \n",
        "                  nearby_shapes.append(s)                  \n",
        "      \n",
        "      return nearby_shapes"
      ],
      "execution_count": 0,
      "outputs": []
    },
    {
      "metadata": {
        "id": "n7q39PpTl18w",
        "colab_type": "text"
      },
      "cell_type": "markdown",
      "source": [
        "Function "
      ]
    },
    {
      "metadata": {
        "id": "bfV-cnQqEq0d",
        "colab_type": "text"
      },
      "cell_type": "markdown",
      "source": [
        "## Creating Training Dataset\n",
        "\n",
        "For each metro station, we draw a 2 mile radius: within that radius, we find which census tract belongs to that station and average the household income data and population density data, and also the number of traffic counts that's inside the tract. "
      ]
    },
    {
      "metadata": {
        "id": "T5W2TRUCcD99",
        "colab_type": "code",
        "outputId": "6bf6297e-138f-4a18-a898-d7db28a69a56",
        "colab": {
          "base_uri": "https://localhost:8080/",
          "height": 6103
        }
      },
      "cell_type": "code",
      "source": [
        "x_train = []\n",
        "x_stations = []\n",
        "for line_ridership_df in line_ridership_df_list_17:\n",
        "  for index, row in line_ridership_df.iterrows():\n",
        "    print(row[\"Station\"])\n",
        "    num_census_tracts = 0\n",
        "    household_income_sum = 0\n",
        "    population_density_sum = 0\n",
        "    traffic_sum = 0\n",
        "    (lat, long) = (row[\"Latitude\"], row[\"Longitude\"])\n",
        "    print(lat, long)\n",
        "    x_stations.append(row[\"Station\"])\n",
        "\n",
        "    nearby_tracts = getNearbyCensusTracts(lat,long)\n",
        "\n",
        "    pop_densities = list()\n",
        "    avg_household_incomes = list()\n",
        "\n",
        "\n",
        "\n",
        "    for tract in nearby_tracts:\n",
        "      tract_num_key = '\"{}\"'.format(str(tract[\"properties\"][\"TRACTCE\"]))\n",
        "      #print(\"NUM: \", tract_num_key)\n",
        "\n",
        "      pop_density = float(census_tract_data[tract_num_key]['SE_A00002_002'])\n",
        "      pop_densities.append(pop_density)\n",
        "      #print(\"PD:\",pop_density)\n",
        "\n",
        "      income = (census_tract_data[tract_num_key]['SE_A14008_001']).strip()\n",
        "      if income:\n",
        "        avg_household_incomes.append(float(income))  \n",
        "      #print(\"IN:\",income)\n",
        "\n",
        "\n",
        "    avg_pop_density = sum(pop_densities)/len(pop_densities)\n",
        "    avg_household_income = sum(avg_household_incomes)/len(avg_household_incomes)\n",
        "\n",
        "    x_train.append([avg_pop_density,avg_household_income])\n",
        "    #print(\"avgPD:\",avg_pop_density, \" avgHI:\",avg_household_income)\n",
        "  \n",
        "  "
      ],
      "execution_count": 17,
      "outputs": [
        {
          "output_type": "stream",
          "text": [
            "Downtown Long Beach Station\n",
            "33.768071 -118.192921\n",
            "Pacific Ave Station\n",
            "33.772258 -118.1937\n",
            "Anaheim Street Station\n",
            "33.78183 -118.189384\n",
            "Pacific Coast Hwy Station\n",
            "33.78909 -118.189382\n",
            "Willow Street Station\n",
            "33.807079 -118.189834\n",
            "Wardlow Station\n",
            "33.819865 -118.19609\n",
            "Del Amo Station\n",
            "33.848222 -118.211017\n",
            "Artesia Station\n",
            "33.876082 -118.222503\n",
            "Compton Station\n",
            "33.89749 -118.224249\n",
            "Willowbrook - Rosa Parks Station - Metro Blue Line\n",
            "33.928048 -118.237555\n",
            "103rd Street / Watts Towers  Station\n",
            "33.94222 -118.243159\n",
            "Firestone Station\n",
            "33.959611 -118.243205\n",
            "Florence Station\n",
            "33.97374 -118.243271\n",
            "Slauson Station\n",
            "33.98876 -118.243398\n",
            "Vernon Station\n",
            "34.00292 -118.243303\n",
            "Washington Station\n",
            "34.01965 -118.243084\n",
            "San Pedro Street Station\n",
            "34.026807 -118.255505\n",
            "Grand / LATTC Station\n",
            "34.033155 -118.269333\n",
            "Pico Station\n",
            "34.040735 -118.266118\n",
            "7th Street / Metro Center Station - Metro Blue & Expo Lines\n",
            "34.04861 -118.258822\n",
            "Pico Station\n",
            "34.040735 -118.266118\n",
            "Grand / LATTC Station\n",
            "34.033155 -118.269333\n",
            "San Pedro Street Station\n",
            "34.026807 -118.255505\n",
            "Washington Station\n",
            "34.01965 -118.243084\n",
            "Vernon Station\n",
            "34.00292 -118.243303\n",
            "Slauson Station\n",
            "33.98876 -118.243398\n",
            "Florence Station\n",
            "33.97374 -118.243271\n",
            "Firestone Station\n",
            "33.959611 -118.243205\n",
            "103rd Street / Watts Towers  Station\n",
            "33.94222 -118.243159\n",
            "Willowbrook - Rosa Parks Station - Metro Blue Line\n",
            "33.928048 -118.237555\n",
            "Compton Station\n",
            "33.89749 -118.224249\n",
            "Artesia Station\n",
            "33.876082 -118.222503\n",
            "Del Amo Station\n",
            "33.848222 -118.211017\n",
            "Wardlow Station\n",
            "33.819865 -118.19609\n",
            "Willow Street Station\n",
            "33.807079 -118.189834\n",
            "Pacific Coast Hwy Station\n",
            "33.78909 -118.189382\n",
            "Anaheim Street Station\n",
            "33.78183 -118.189384\n",
            "5th Street Station\n",
            "33.773598 -118.189412\n",
            "1st Street Station\n",
            "33.76874 -118.189362\n",
            "North Hollywood Station\n",
            "34.168504 -118.376808\n",
            "Universal / Studio City Station\n",
            "34.140002 -118.362699\n",
            "Hollywood / Highland Station\n",
            "34.101547 -118.338549\n",
            "Hollywood / Vine Station\n",
            "34.10163 -118.32518\n",
            "Hollywood / Western Station\n",
            "34.101737 -118.308117\n",
            "Vermont / Sunset Station\n",
            "34.097708 -118.291756\n",
            "Vermont / Santa Monica Station\n",
            "34.08991 -118.29173\n",
            "Vermont / Beverly Station\n",
            "34.076526 -118.291686\n",
            "Wilshire / Vermont Station\n",
            "34.062701 -118.290082\n",
            "Westlake / MacArthur Park Station\n",
            "34.056368 -118.274879\n",
            "7th Street / Metro Center Station - Metro Red & Purple Lines\n",
            "34.048634 -118.258682\n",
            "Pershing Square Station\n",
            "34.049316 -118.251259\n",
            "Civic Center / Grand Park Station\n",
            "34.0549 -118.246057\n",
            "Union Station - Metro Red & Purple Lines\n",
            "34.056197 -118.234249\n",
            "Civic Center / Grand Park Station\n",
            "34.0549 -118.246057\n",
            "Pershing Square Station\n",
            "34.049316 -118.251259\n",
            "7th Street / Metro Center Station - Metro Red & Purple Lines\n",
            "34.048634 -118.258682\n",
            "Westlake / MacArthur Park Station\n",
            "34.056368 -118.274879\n",
            "Wilshire / Vermont Station\n",
            "34.062701 -118.290082\n",
            "Vermont / Beverly Station\n",
            "34.076526 -118.291686\n",
            "Vermont / Santa Monica Station\n",
            "34.08991 -118.29173\n",
            "Vermont / Sunset Station\n",
            "34.097708 -118.291756\n",
            "Hollywood / Western Station\n",
            "34.101737 -118.308117\n",
            "Hollywood / Vine Station\n",
            "34.10163 -118.32518\n",
            "Hollywood / Highland Station\n",
            "34.101547 -118.338549\n",
            "Universal / Studio City Station\n",
            "34.140002 -118.362699\n",
            "Downtown Santa Monica Station\n",
            "34.01401 -118.491384\n",
            "17th Street / Santa Monica College Station\n",
            "34.023155 -118.480372\n",
            "26th Street / Bergamot Station\n",
            "34.027995 -118.46912\n",
            "Expo / Bundy Station\n",
            "34.031705 -118.452896\n",
            "Expo / Sepulveda Station\n",
            "34.035408 -118.434234\n",
            "Westwood / Rancho Park Station\n",
            "34.036816 -118.424576\n",
            "Palms Station\n",
            "34.029323 -118.404255\n",
            "Culver City Station\n",
            "34.027896 -118.388986\n",
            "La Cienega / Jefferson Station\n",
            "34.026355 -118.37212\n",
            "Expo / La Brea / Ethel Bradley Station\n",
            "34.024803 -118.355159\n",
            "Farmdale Station\n",
            "34.023981 -118.346095\n",
            "Expo / Crenshaw Station\n",
            "34.022526 -118.335078\n",
            "Expo / Western Station\n",
            "34.018331 -118.30891\n",
            "Expo / Vermont Station\n",
            "34.018245 -118.29154\n",
            "Expo Park / USC Station\n",
            "34.018227 -118.285734\n",
            "Jefferson / USC Station\n",
            "34.022123 -118.278118\n",
            "LATTC / Ortho Institute Station\n",
            "34.029112 -118.273603\n",
            "Pico Station\n",
            "34.040735 -118.266118\n",
            "7th Street / Metro Center Station - Metro Blue & Expo Lines\n",
            "34.04861 -118.258822\n",
            "Pico Station\n",
            "34.040735 -118.266118\n",
            "LATTC / Ortho Institute Station\n",
            "34.029112 -118.273603\n",
            "Jefferson / USC Station\n",
            "34.022123 -118.278118\n",
            "Expo Park / USC Station\n",
            "34.018227 -118.285734\n",
            "Expo / Vermont Station\n",
            "34.018245 -118.29154\n",
            "Expo / Western Station\n",
            "34.018331 -118.30891\n",
            "Expo / Crenshaw Station\n",
            "34.022526 -118.335078\n",
            "Farmdale Station\n",
            "34.023981 -118.346095\n",
            "Expo / La Brea / Ethel Bradley Station\n",
            "34.024803 -118.355159\n",
            "La Cienega / Jefferson Station\n",
            "34.026355 -118.37212\n",
            "Culver City Station\n",
            "34.027896 -118.388986\n",
            "Palms Station\n",
            "34.029323 -118.404255\n",
            "Westwood / Rancho Park Station\n",
            "34.036816 -118.424576\n",
            "Expo / Sepulveda Station\n",
            "34.035408 -118.434234\n",
            "Expo / Bundy Station\n",
            "34.031705 -118.452896\n",
            "26th Street / Bergamot Station\n",
            "34.027995 -118.46912\n",
            "17th Street / Santa Monica College Station\n",
            "34.023155 -118.480372\n",
            "Redondo Beach Station\n",
            "33.89464 -118.369196\n",
            "Douglas Station\n",
            "33.905299 -118.383113\n",
            "El Segundo Station\n",
            "33.916063 -118.386539\n",
            "Mariposa Station\n",
            "33.9232 -118.387572\n",
            "Aviation / LAX Station\n",
            "33.929621 -118.377134\n",
            "Hawthorne / Lennox Station\n",
            "33.933408 -118.351602\n",
            "Crenshaw Station\n",
            "33.925201 -118.32655\n",
            "Vermont / Athens Station\n",
            "33.928683 -118.291733\n",
            "Harbor Freeway Station\n",
            "33.928714 -118.2811\n",
            "Avalon Station\n",
            "33.927465 -118.265217\n",
            "Willowbrook - Rosa Parks Station - Metro Green Line\n",
            "33.928258 -118.238052\n",
            "Long Beach Blvd Station\n",
            "33.92488 -118.209945\n",
            "Lakewood Blvd Station\n",
            "33.91307 -118.1406\n",
            "Norwalk Station\n",
            "33.914033 -118.104717\n",
            "Lakewood Blvd Station\n",
            "33.91307 -118.1406\n",
            "Long Beach Blvd Station\n",
            "33.92488 -118.209945\n",
            "Willowbrook - Rosa Parks Station - Metro Green Line\n",
            "33.928258 -118.238052\n",
            "Avalon Station\n",
            "33.927465 -118.265217\n",
            "Harbor Freeway Station\n",
            "33.928714 -118.2811\n",
            "Vermont / Athens Station\n",
            "33.928683 -118.291733\n",
            "Crenshaw Station\n",
            "33.925201 -118.32655\n",
            "Hawthorne / Lennox Station\n",
            "33.933408 -118.351602\n",
            "Aviation / LAX Station\n",
            "33.929621 -118.377134\n",
            "Mariposa Station\n",
            "33.9232 -118.387572\n",
            "El Segundo Station\n",
            "33.916063 -118.386539\n",
            "Douglas Station\n",
            "33.905299 -118.383113\n",
            "Atlantic Station\n",
            "34.033398 -118.154469\n",
            "East LA Civic Center Station\n",
            "34.033364 -118.161206\n",
            "Maravilla Station\n",
            "34.033319 -118.16814\n",
            "Indiana Station\n",
            "34.0343 -118.192182\n",
            "Soto Station\n",
            "34.043747 -118.210061\n",
            "Mariachi Plaza / Boyle Heights Station\n",
            "34.047215 -118.219648\n",
            "Pico / Aliso Station\n",
            "34.047634 -118.22594\n",
            "Little Tokyo / Arts District Station\n",
            "34.0501 -118.237901\n",
            "Union Station - Metro Gold Line\n",
            "34.056061 -118.234759\n",
            "Chinatown Station\n",
            "34.063861 -118.23584\n",
            "Lincoln Heights / Cypress Park Station\n",
            "34.080949 -118.220429\n",
            "Heritage Square / Arroyo Station\n",
            "34.087227 -118.213213\n",
            "Southwest Museum Station\n",
            "34.098243 -118.206712\n",
            "Highland Park Station\n",
            "34.111179 -118.192606\n",
            "South Pasadena Station\n",
            "34.115186 -118.157886\n",
            "Fillmore Station\n",
            "34.133521 -118.148126\n",
            "Del Mar Station\n",
            "34.14191 -118.148214\n",
            "Memorial Park Station\n",
            "34.148356 -118.147512\n",
            "Lake Station\n",
            "34.151806 -118.13139\n",
            "Allen Station\n",
            "34.152417 -118.114348\n",
            "Sierra Madre Villa Station\n",
            "34.147752 -118.081212\n",
            "Arcadia Station\n",
            "34.14286 -118.029199\n",
            "Monrovia Station\n",
            "34.133155 -118.003473\n",
            "Duarte / City of Hope Station\n",
            "34.132518 -117.96768\n",
            "Irwindale Station\n",
            "34.129048 -117.932506\n",
            "Azusa Downtown Station\n",
            "34.135863 -117.906631\n",
            "APU / Citrus College Station\n",
            "34.136814 -117.891636\n",
            "Azusa Downtown Station\n",
            "34.135863 -117.906631\n",
            "Irwindale Station\n",
            "34.129048 -117.932506\n",
            "Duarte / City of Hope Station\n",
            "34.132518 -117.96768\n",
            "Monrovia Station\n",
            "34.133155 -118.003473\n",
            "Arcadia Station\n",
            "34.14286 -118.029199\n",
            "Sierra Madre Villa Station\n",
            "34.147752 -118.081212\n",
            "Allen Station\n",
            "34.152417 -118.114348\n",
            "Lake Station\n",
            "34.151806 -118.13139\n",
            "Memorial Park Station\n",
            "34.148356 -118.147512\n",
            "Del Mar Station\n",
            "34.14191 -118.148214\n",
            "Fillmore Station\n",
            "34.133521 -118.148126\n",
            "South Pasadena Station\n",
            "34.115186 -118.157886\n",
            "Highland Park Station\n",
            "34.111179 -118.192606\n",
            "Southwest Museum Station\n",
            "34.098243 -118.206712\n",
            "Heritage Square / Arroyo Station\n",
            "34.087227 -118.213213\n",
            "Lincoln Heights / Cypress Park Station\n",
            "34.080949 -118.220429\n",
            "Chinatown Station\n",
            "34.063861 -118.23584\n",
            "Union Station - Metro Gold Line\n",
            "34.056061 -118.234759\n",
            "Little Tokyo / Arts District Station\n",
            "34.0501 -118.237901\n",
            "Pico / Aliso Station\n",
            "34.047634 -118.22594\n",
            "Mariachi Plaza / Boyle Heights Station\n",
            "34.047215 -118.219648\n",
            "Soto Station\n",
            "34.043747 -118.210061\n",
            "Indiana Station\n",
            "34.0343 -118.192182\n",
            "Maravilla Station\n",
            "34.033319 -118.16814\n",
            "East LA Civic Center Station\n",
            "34.033364 -118.161206\n"
          ],
          "name": "stdout"
        }
      ]
    },
    {
      "metadata": {
        "id": "JnAjg4xtaKSx",
        "colab_type": "text"
      },
      "cell_type": "markdown",
      "source": [
        "Our Y_Train data is average ridership data for each metro station."
      ]
    },
    {
      "metadata": {
        "id": "fFbg0esHS91I",
        "colab_type": "code",
        "outputId": "dec082c1-6e60-4599-a07e-61803675227f",
        "colab": {
          "base_uri": "https://localhost:8080/",
          "height": 34
        }
      },
      "cell_type": "code",
      "source": [
        "y_train = []\n",
        "\n",
        "for line_ridership_df in line_ridership_df_list_17:\n",
        "  for index, row in line_ridership_df.iterrows():\n",
        "    y_train.append(row[\"Average_Daily_Boardings\"])\n",
        "\n",
        "  \n",
        "y_train = np.array(y_train)\n",
        "\n",
        "print(len(y_train))\n"
      ],
      "execution_count": 18,
      "outputs": [
        {
          "output_type": "stream",
          "text": [
            "179\n"
          ],
          "name": "stdout"
        }
      ]
    },
    {
      "metadata": {
        "id": "s3gUjtXthZs9",
        "colab_type": "text"
      },
      "cell_type": "markdown",
      "source": [
        "Testing data: Purple Line"
      ]
    },
    {
      "metadata": {
        "id": "ba4ARJxyhY2m",
        "colab_type": "code",
        "outputId": "8414f3e0-c6e1-4a64-c250-3ccdb1636c5d",
        "colab": {
          "base_uri": "https://localhost:8080/",
          "height": 493
        }
      },
      "cell_type": "code",
      "source": [
        "x_test = []\n",
        "y_test = []\n",
        "x_test_stations = []\n",
        "\n",
        "purple_ridership_df = pd.read_excel(\"RailActivityByStationFY2017.xlsx\", sheet_name=\"Purple Line\")\n",
        "\n",
        "invalid_row_indicies = []\n",
        "for i in range(len(purple_ridership_df.index)):\n",
        "  daily_boardings = purple_ridership_df.loc[i]['Average_Daily_Boardings']\n",
        "  daytype = purple_ridership_df.loc[i]['Daytype']\n",
        "\n",
        "  if type(purple_ridership_df.loc[i]['Station']) is not str:\n",
        "    invalid_row_indicies.append(i)\n",
        "\n",
        "  elif daily_boardings == 0 or isnan(daily_boardings):\n",
        "    invalid_row_indicies.append(i)\n",
        "\n",
        "  elif daytype != \"Weekday\":\n",
        "    invalid_row_indicies.append(i)\n",
        "\n",
        "purple_ridership_df.drop(invalid_row_indicies, inplace=True)\n",
        "\n",
        "  \n",
        "# Purple Line\n",
        "for index, row in purple_ridership_df.iterrows():\n",
        "  print(row[\"Station\"])\n",
        "  num_census_tracts = 0\n",
        "  household_income_sum = 0\n",
        "  population_density_sum = 0\n",
        "  traffic_sum = 0\n",
        "  (lat, long) = (row[\"Latitude\"], row[\"Longitude\"])\n",
        "  print(lat, long)\n",
        "  x_test_stations.append(row[\"Station\"])\n",
        "  \n",
        "  nearby_tracts = getNearbyCensusTracts(lat,long)\n",
        "  \n",
        "  pop_densities = list()\n",
        "  avg_household_incomes = list()\n",
        "  \n",
        "                                                                                                                                                                              \n",
        "\n",
        "  for tract in nearby_tracts:\n",
        "    tract_num_key = '\"{}\"'.format(str(tract[\"properties\"][\"TRACTCE\"]))\n",
        "    #print(\"NUM: \", tract_num_key)\n",
        "    \n",
        "    pop_density = float(census_tract_data[tract_num_key]['SE_A00002_002'])\n",
        "    pop_densities.append(pop_density)\n",
        "    #print(\"PD:\",pop_density)\n",
        "    \n",
        "    income = (census_tract_data[tract_num_key]['SE_A14008_001']).strip()\n",
        "    if income:\n",
        "      avg_household_incomes.append(float(income))  \n",
        "    #print(\"IN:\",income)\n",
        "    \n",
        "   \n",
        "    \n",
        "    \n",
        "  avg_pop_density = sum(pop_densities)/len(pop_densities)\n",
        "  avg_household_income = sum(avg_household_incomes)/len(avg_household_incomes)\n",
        "  \n",
        "  x_test.append([avg_pop_density,avg_household_income])\n",
        "    #print(\"avgPD:\",avg_pop_density, \" avgHI:\",avg_household_income)\n",
        "  \n",
        "\n",
        "\n",
        "# Purple Line\n",
        "for index, row in purple_ridership_df.iterrows():\n",
        "  \n",
        "  # Adding average daily boardings into y_test\n",
        "  y_test.append(row[\"Average_Daily_Boardings\"])\n",
        "\n",
        "\n",
        "x_test = np.array(x_test)\n",
        "y_test = np.array(y_test)\n"
      ],
      "execution_count": 20,
      "outputs": [
        {
          "output_type": "stream",
          "text": [
            "Wilshire / Western Station\n",
            "34.061689 -118.308756\n",
            "Wilshire / Normandie Station\n",
            "34.061753 -118.301458\n",
            "Wilshire / Vermont Station\n",
            "34.062701 -118.290082\n",
            "Westlake / MacArthur Park Station\n",
            "34.056368 -118.274879\n",
            "7th Street / Metro Center Station - Metro Red & Purple Lines\n",
            "34.048634 -118.258682\n",
            "Pershing Square Station\n",
            "34.049316 -118.251259\n",
            "Civic Center / Grand Park Station\n",
            "34.0549 -118.246057\n",
            "Union Station - Metro Red & Purple Lines\n",
            "34.056197 -118.234249\n",
            "Civic Center / Grand Park Station\n",
            "34.0549 -118.246057\n",
            "Pershing Square Station\n",
            "34.049316 -118.251259\n",
            "7th Street / Metro Center Station - Metro Red & Purple Lines\n",
            "34.048634 -118.258682\n",
            "Westlake / MacArthur Park Station\n",
            "34.056368 -118.274879\n",
            "Wilshire / Vermont Station\n",
            "34.062701 -118.290082\n",
            "Wilshire / Normandie Station\n",
            "34.061753 -118.301458\n"
          ],
          "name": "stdout"
        }
      ]
    },
    {
      "metadata": {
        "id": "L3YkjxzlfCAM",
        "colab_type": "text"
      },
      "cell_type": "markdown",
      "source": [
        "## Creating Machine Learning Model\n",
        "\n",
        "Import Python packages for Linear Regression and XG Boost"
      ]
    },
    {
      "metadata": {
        "id": "IW7TKryaYT5Q",
        "colab_type": "code",
        "colab": {}
      },
      "cell_type": "code",
      "source": [
        "from sklearn.linear_model import LinearRegression\n",
        "from sklearn.svm import SVR\n",
        "from sklearn import metrics\n",
        "import xgboost as xgb"
      ],
      "execution_count": 0,
      "outputs": []
    },
    {
      "metadata": {
        "id": "i31jpRDlpOAr",
        "colab_type": "code",
        "outputId": "0834526e-903e-4dc2-c25c-62cb996aec27",
        "colab": {
          "base_uri": "https://localhost:8080/",
          "height": 54
        }
      },
      "cell_type": "code",
      "source": [
        "np.set_printoptions(threshold=sys.maxsize)\n",
        "\n",
        "print(x_train)\n",
        "#x_train.shape\n",
        "#y_train.reshape(405,1)\n",
        "#y_train.shape"
      ],
      "execution_count": 22,
      "outputs": [
        {
          "output_type": "stream",
          "text": [
            "[[29238.701470588236, 53234.892841509274], [29388.740789473686, 52617.638260478205], [27514.422407407408, 53021.521846850104], [26298.56766666667, 52093.43382300369], [16160.191, 69568.18200511091], [8624.8327, 94622.56741498929], [11642.345375, 78435.17166345842], [11140.410375, 58598.4565150056], [15042.7933125, 54370.71113125301], [17333.113529411763, 48972.55929493185], [19319.8101, 44329.34602709424], [20060.727407407412, 46198.02488332338], [19599.82861538462, 46640.16803471407], [20725.279090909098, 45401.77703090721], [21933.899444444447, 43592.01462044609], [19514.826624999998, 46078.57329244295], [19733.5508, 50080.70930911324], [24191.870827586208, 42591.39297306848], [37399.38397058824, 46794.6542592005], [36108.21747058823, 53594.08544744862], [37399.38397058824, 46794.6542592005], [24191.870827586208, 42591.39297306848], [19733.5508, 50080.70930911324], [19514.826624999998, 46078.57329244295], [21933.899444444447, 43592.01462044609], [20725.279090909098, 45401.77703090721], [19599.82861538462, 46640.16803471407], [20060.727407407412, 46198.02488332338], [19319.8101, 44329.34602709424], [17333.113529411763, 48972.55929493185], [15042.7933125, 54370.71113125301], [11140.410375, 58598.4565150056], [11642.345375, 78435.17166345842], [8624.8327, 94622.56741498929], [16160.191, 69568.18200511091], [26298.56766666667, 52093.43382300369], [27514.422407407408, 53021.521846850104], [29810.713695652175, 52659.27886543408], [29262.725000000002, 53196.99837707773], [15848.587699999998, 69984.26568707424], [9420.261799999998, 118538.61357691807], [20995.293541666666, 79901.80765059583], [22774.433960000002, 75731.7659116668], [25690.34546153846, 64164.427175949284], [25869.21118181818, 68813.25126587042], [29015.249731707314, 62953.7896796822], [40249.89222222222, 53051.938707856425], [45579.60515625001, 46284.65052931921], [41615.43160377358, 46425.697161222866], [36108.21747058823, 53594.08544744862], [31346.96762962963, 60227.545331375906], [29355.719, 65250.43743250004], [20063.98805555556, 61887.58423241872], [29355.719, 65250.43743250004], [31346.96762962963, 60227.545331375906], [36108.21747058823, 53594.08544744862], [41615.43160377358, 46425.697161222866], [45579.60515625001, 46284.65052931921], [40249.89222222222, 53051.938707856425], [29015.249731707314, 62953.7896796822], [25869.21118181818, 68813.25126587042], [25690.34546153846, 64164.427175949284], [22774.433960000002, 75731.7659116668], [20995.293541666666, 79901.80765059583], [9420.261799999998, 118538.61357691807], [16276.420545454544, 112117.71310444195], [14448.817000000001, 117716.69817643345], [16269.521555555557, 116750.60974439008], [18181.313800000004, 105282.51893220743], [12790.435125, 114479.88772896687], [14336.484166666669, 119188.13939693787], [18071.306, 113956.43770857328], [17277.231941176473, 103504.61301745691], [14903.544571428572, 76190.19993822115], [15593.23772222222, 61298.38461388662], [16054.145238095238, 58271.9560491813], [17276.56143478261, 56123.68430193167], [19225.05833333333, 50081.332472726404], [21093.526714285716, 40906.40163244561], [21164.420533333334, 40243.26162872018], [22178.81596551724, 37459.63382031968], [22098.602103448276, 42377.156387559895], [37399.38397058824, 46794.6542592005], [36108.21747058823, 53594.08544744862], [37399.38397058824, 46794.6542592005], [22098.602103448276, 42377.156387559895], [22178.81596551724, 37459.63382031968], [21164.420533333334, 40243.26162872018], [21093.526714285716, 40906.40163244561], [19225.05833333333, 50081.332472726404], [17276.56143478261, 56123.68430193167], [16054.145238095238, 58271.9560491813], [15593.23772222222, 61298.38461388662], [14903.544571428572, 76190.19993822115], [17277.231941176473, 103504.61301745691], [18071.306, 113956.43770857328], [14336.484166666669, 119188.13939693787], [12790.435125, 114479.88772896687], [18181.313800000004, 105282.51893220743], [16269.521555555557, 116750.60974439008], [14448.817000000001, 117716.69817643345], [13188.132666666666, 103932.30567570023], [5855.8892, 124702.48083846795], [6276.597, 120382.7994579762], [6648.39325, 112100.08123894293], [13466.841625, 55979.02491218339], [17874.65263157895, 57321.452994087784], [14305.15657142857, 64054.40868576446], [15578.897125000001, 47080.17480071486], [14974.218400000003, 48373.83748561951], [14854.465352941173, 48389.82819463983], [17489.454444444444, 48502.15109667921], [16999.579388888887, 57928.004537146306], [12034.026538461538, 72008.67800052502], [11045.12227272727, 80126.82725452604], [12034.026538461538, 72008.67800052502], [16999.579388888887, 57928.004537146306], [17489.454444444444, 48502.15109667921], [14854.465352941173, 48389.82819463983], [14974.218400000003, 48373.83748561951], [15578.897125000001, 47080.17480071486], [14305.15657142857, 64054.40868576446], [17874.65263157895, 57321.452994087784], [13466.841625, 55979.02491218339], [6648.39325, 112100.08123894293], [6276.597, 120382.7994579762], [5855.8892, 124702.48083846795], [15169.583111111111, 58934.88776524606], [15854.6603125, 56820.97356926666], [17949.056600000004, 51776.004792738415], [20030.70819230769, 52800.9143334388], [20160.497208333334, 48399.4062262952], [17607.343999999997, 51862.61787824729], [17104.57135, 48893.33225381091], [18897.979176470588, 65395.20246309545], [20093.14911764706, 62904.26826396085], [18202.359725294118, 63252.12156427821], [13199.699179230769, 55043.34209006114], [12305.441785714285, 69516.01606565001], [14428.658312500002, 74812.56527876358], [15272.42910526316, 76731.12715459564], [9424.966333333336, 115213.96465378918], [9676.0166, 107910.48223721431], [11560.84372727273, 97525.76122292718], [12675.042066666667, 90578.04663637593], [12755.087529411765, 86812.05587440984], [9104.543909090908, 109617.65194284279], [4784.595285714286, 127589.64400528223], [6543.403857142858, 120538.41862866159], [8785.8895, 96285.07595262893], [5333.123966666667, 93841.80766980733], [6293.380666666667, 65772.41019158847], [7966.699999999999, 73997.33901299957], [8727.157000000001, 75898.95595866085], [7966.699999999999, 73997.33901299957], [6293.380666666667, 65772.41019158847], [5333.123966666667, 93841.80766980733], [8785.8895, 96285.07595262893], [6543.403857142858, 120538.41862866159], [4784.595285714286, 127589.64400528223], [9104.543909090908, 109617.65194284279], [12755.087529411765, 86812.05587440984], [12675.042066666667, 90578.04663637593], [11560.84372727273, 97525.76122292718], [9676.0166, 107910.48223721431], [9424.966333333336, 115213.96465378918], [15272.42910526316, 76731.12715459564], [14428.658312500002, 74812.56527876358], [12305.441785714285, 69516.01606565001], [13199.699179230769, 55043.34209006114], [18202.359725294118, 63252.12156427821], [20093.14911764706, 62904.26826396085], [18897.979176470588, 65395.20246309545], [17104.57135, 48893.33225381091], [17607.343999999997, 51862.61787824729], [20160.497208333334, 48399.4062262952], [20030.70819230769, 52800.9143334388], [17949.056600000004, 51776.004792738415], [15854.6603125, 56820.97356926666]]\n"
          ],
          "name": "stdout"
        }
      ]
    },
    {
      "metadata": {
        "id": "-WUXnmkqgpaq",
        "colab_type": "text"
      },
      "cell_type": "markdown",
      "source": [
        "Instantiating the model and training the model"
      ]
    },
    {
      "metadata": {
        "id": "Jmq3CcOFguWl",
        "colab_type": "code",
        "outputId": "66e07ece-22f4-4dc5-bb21-f6c659739e6f",
        "colab": {
          "base_uri": "https://localhost:8080/",
          "height": 3679
        }
      },
      "cell_type": "code",
      "source": [
        "\n",
        "\n",
        "# Linear Regression\n",
        "lr_model = LinearRegression()\n",
        "lr_model.fit(x_train, y_train)\n",
        "y_pred = lr_model.predict(x_test)\n",
        " \n",
        "print(\"Linear Regression r^2:\",metrics.r2_score(y_test, y_pred))\n",
        "print(\"MSE r^2:\",metrics.mean_squared_error(y_test, y_pred))\n",
        "\n",
        "\n",
        "fig, ax = plt.subplots()\n",
        "\n",
        "index = np.arange(len(x_test_stations))\n",
        "print(len(index))\n",
        "bar_width=0.35\n",
        "\n",
        "rects1 = ax.bar(index, y_test,  bar_width, label='Actual')\n",
        "rects2 = ax.bar(index +  bar_width, y_pred,  bar_width, label='Pred')\n",
        "\n",
        "ax.set_xlabel('Station')\n",
        "ax.set_ylabel('Ridership')\n",
        "ax.set_xticks(index+bar_width/2)\n",
        "x_labels = []\n",
        "for index, row in purple_ridership_df.iterrows():\n",
        "  x_labels.append(row['Station'])\n",
        "ax.set_xticklabels(x_labels, minor=False, rotation=\"vertical\")\n",
        "ax.legend()\n",
        "\n",
        "fig.set_size_inches(20.5, 15.5)\n",
        "plt.show()\n",
        "\n",
        "# Support Vector Regression\n",
        "svr_rbf = SVR(kernel='rbf', C=1e3, gamma=0.1)\n",
        "svr_lin = SVR(kernel='linear', C=1e3)\n",
        "svr_poly = SVR(kernel='poly', C=1e3, degree=2)\n",
        "\n",
        "svr_rbf.fit(x_train,y_train)\n",
        "y_pred = svr_rbf.predict(x_test)\n",
        "print(\"svr rbf r^2:\",metrics.r2_score(y_test, y_pred))\n",
        "print(\"MSE r^2:\",metrics.mean_squared_error(y_test, y_pred))\n",
        "\n",
        "fig, ax = plt.subplots()\n",
        "\n",
        "index = np.arange(len(x_test_stations))\n",
        "bar_width=0.35\n",
        "\n",
        "rects1 = ax.bar(index, y_test,  bar_width, label='Actual')\n",
        "rects2 = ax.bar(index +  bar_width, y_pred,  bar_width, label='Pred')\n",
        "\n",
        "ax.set_xlabel('Station')\n",
        "ax.set_ylabel('Ridership')\n",
        "ax.set_xticks(index+bar_width/2)\n",
        "x_labels = []\n",
        "for index, row in purple_ridership_df.iterrows():\n",
        "  x_labels.append(row['Station'])\n",
        "ax.set_xticklabels(x_labels, minor=False, rotation=\"vertical\")\n",
        "ax.legend()\n",
        "\n",
        "fig.set_size_inches(20.5, 15.5)\n",
        "plt.show()\n",
        "'''\n",
        "svr_lin.fit(x_train,y_train)\n",
        "y_pred = svr_lin.predict(x_test)\n",
        "print(\"svr lin r^2:\",metrics.r2_score(y_test, y_pred))\n",
        "\n",
        "svr_poly.fit(x_train,y_train)\n",
        "y_pred = svr_poly.predict(x_test)\n",
        "print(\"svr poly r^2:\",metrics.r2_score(y_test, y_pred))\n",
        "'''\n",
        "# XGBoost\n",
        "xgb_model = xgb.XGBRegressor()\n",
        "xgb_model.fit(x_train, y_train)\n",
        "y_pred = xgb_model.predict(x_test)\n",
        "print(\"XGBoost r^2:\",metrics.r2_score(y_test, y_pred))\n",
        "print(\"MSE r^2:\",metrics.mean_squared_error(y_test, y_pred))\n",
        "\n",
        "\n",
        "fig, ax = plt.subplots()\n",
        "\n",
        "index = np.arange(len(x_test_stations))\n",
        "bar_width=0.35\n",
        "\n",
        "rects1 = ax.bar(index, y_test,  bar_width, label='Actual')\n",
        "rects2 = ax.bar(index +  bar_width, y_pred,  bar_width, label='Pred')\n",
        "\n",
        "ax.set_xlabel('Station')\n",
        "ax.set_ylabel('Ridership')\n",
        "ax.set_xticks(index+bar_width/2)\n",
        "x_labels = []\n",
        "for index, row in purple_ridership_df.iterrows():\n",
        "  x_labels.append(row['Station'])\n",
        "ax.set_xticklabels(x_labels, minor=False, rotation=\"vertical\")\n",
        "ax.legend()\n",
        "\n",
        "fig.set_size_inches(20.5, 15.5)\n",
        "plt.show()\n"
      ],
      "execution_count": 24,
      "outputs": [
        {
          "output_type": "stream",
          "text": [
            "Linear Regression r^2: -0.6090262748211319\n",
            "MSE r^2: 8050815.7782251015\n",
            "14\n"
          ],
          "name": "stdout"
        },
        {
          "output_type": "display_data",
          "data": {
            "image/png": "[encoded data removed]",
            "text/plain": [
              "<Figure size 1476x1116 with 1 Axes>"
            ]
          },
          "metadata": {
            "tags": []
          }
        },
        {
          "output_type": "stream",
          "text": [
            "svr rbf r^2: 0.14736578466044925\n",
            "MSE r^2: 4266183.281981097\n"
          ],
          "name": "stdout"
        },
        {
          "output_type": "display_data",
          "data": {
            "image/png": "[encoded data removed]",
            "text/plain": [
              "<Figure size 1476x1116 with 1 Axes>"
            ]
          },
          "metadata": {
            "tags": []
          }
        },
        {
          "output_type": "stream",
          "text": [
            "XGBoost r^2: -0.5722495461618742\n",
            "MSE r^2: 7866802.209276782\n"
          ],
          "name": "stdout"
        },
        {
          "output_type": "display_data",
          "data": {
            "image/png": "[encoded data removed]",
            "text/plain": [
              "<Figure size 1476x1116 with 1 Axes>"
            ]
          },
          "metadata": {
            "tags": []
          }
        }
      ]
    }
  ]
}